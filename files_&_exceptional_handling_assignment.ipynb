{
  "nbformat": 4,
  "nbformat_minor": 0,
  "metadata": {
    "colab": {
      "provenance": []
    },
    "kernelspec": {
      "name": "python3",
      "display_name": "Python 3"
    },
    "language_info": {
      "name": "python"
    }
  },
  "cells": [
    {
      "cell_type": "markdown",
      "source": [
        "#1. What is the difference between interpreted and compiled languages?\n"
      ],
      "metadata": {
        "id": "S4FfOiECtnTo"
      }
    },
    {
      "cell_type": "markdown",
      "source": [
        "-> Compiled Languages\n",
        "\n",
        "- The entire source code is converted into machine code (binary) by a compiler before execution.\n",
        "- The generated executable file can run independently without needing the original source code or compiler.\n",
        "- Faster execution since translation happens once before running.\n",
        "- Examples: C, C++, Rust, Go\n",
        "\n",
        "Interpreted Languages\n",
        "- The source code is executed line-by-line by an interpreter at runtime.\n",
        "- No separate executable file is generated; the interpreter is needed every time the program runs.\n",
        "- Slower execution since translation happens on the fly.\n",
        "- Examples: Python, JavaScript, Ruby"
      ],
      "metadata": {
        "id": "lCqsnbYZtvPs"
      }
    },
    {
      "cell_type": "markdown",
      "source": [
        "# 2. What is exception handling in Python?"
      ],
      "metadata": {
        "id": "OnAj0pl0uYSC"
      }
    },
    {
      "cell_type": "markdown",
      "source": [
        "-> Exception handling is a Mechanism to handle runtime errors and prevent program crashes. It allows for graceful error handling and recovery.\n",
        "\n",
        "Basic syntax :\n",
        "\n",
        "```\n",
        "try:\n",
        "    # Code that may raise an exception\n",
        "except ExceptionType:\n",
        "    # Handle exception\n",
        "else:\n",
        "    # Executes if no exception occurs\n",
        "finally:\n",
        "    # Always executes\n",
        "```\n",
        "\n"
      ],
      "metadata": {
        "id": "MQSQvAlNuhKJ"
      }
    },
    {
      "cell_type": "markdown",
      "source": [
        "#3. What is the purpose of the finally block in exception handling?"
      ],
      "metadata": {
        "id": "CtKiiAG2vTG9"
      }
    },
    {
      "cell_type": "markdown",
      "source": [
        "-> The finally block is used in exception handling to specify a section of code that should always execute, regardless of whether an exception occurs or not.\n",
        "\n",
        "Key Reasons to Use finally:\n",
        "- Resource Cleanup\n",
        "  - Ensures proper release of resources (e.g., closing files, database connections, releasing memory).\n",
        "- Guaranteed Execution\n",
        "  - Executes even if an exception occurs or if a return, break, or continue statement is encountered.\n",
        "- Maintaining Code Reliability\n",
        "  - Prevents resource leaks and ensures a stable program execution."
      ],
      "metadata": {
        "id": "OyK4g3zPvWIu"
      }
    },
    {
      "cell_type": "markdown",
      "source": [
        "#4. What is logging in Python?"
      ],
      "metadata": {
        "id": "fMzEMZErvvSR"
      }
    },
    {
      "cell_type": "markdown",
      "source": [
        "-> Logging in Python is a way to track events that happen when a program runs. It helps in debugging, monitoring, and maintaining applications by recording messages about program execution."
      ],
      "metadata": {
        "id": "v3LiTGRrvyvB"
      }
    },
    {
      "cell_type": "markdown",
      "source": [
        "#5. What is the significance of the __ del __ method in Python?"
      ],
      "metadata": {
        "id": "v4CP80U1v9Tn"
      }
    },
    {
      "cell_type": "markdown",
      "source": [
        "-> The _ del _ method in Python is a destructor that is automatically called when an object is about to be destroyed (i.e., when there are no more references to it). It is mainly used for cleaning up resources, such as closing files, releasing memory, or disconnecting from a database."
      ],
      "metadata": {
        "id": "dR76fxb0wDEh"
      }
    },
    {
      "cell_type": "markdown",
      "source": [
        "#6. What is the difference between import and from ... import in Python?"
      ],
      "metadata": {
        "id": "_-rCWXMiwUxP"
      }
    },
    {
      "cell_type": "markdown",
      "source": [
        "-> Both import and from ... import are used to bring external modules or specific functions into a Python script, but they work differently.\n",
        "\n",
        "> import Statement\n",
        "  - Imports the entire module.\n",
        "  - We must use the module name when accessing its functions or variables.\n",
        "\n",
        "Advantages:\n",
        "\n",
        "  - Keeps code organized by clearly showing where functions come from.\n",
        "  - Avoids naming conflicts with functions from different modules.\n",
        "\n",
        "Example:\n",
        "```\n",
        "import math\n",
        "\n",
        "print(math.sqrt(16))  # Accessing sqrt using math.sqrt\n",
        "\n",
        "```\n",
        "> from ... import Statement\n",
        "  - mports specific functions, classes, or variables from a module.\n",
        "  - No need to use the module name when calling functions.\n",
        "\n",
        "Advantages:\n",
        "\n",
        "  - Makes code shorter and easier to read.\n",
        "  - Improves performance if you only need a few functions from a large module.\n",
        "\n",
        "Example:\n",
        "\n",
        "```\n",
        "from math import sqrt\n",
        "\n",
        "print(sqrt(16))  # Directly using sqrt\n",
        "\n",
        "```"
      ],
      "metadata": {
        "id": "yevP8tLzwjgg"
      }
    },
    {
      "cell_type": "markdown",
      "source": [
        "#7. How can you handle multiple exceptions in Python?"
      ],
      "metadata": {
        "id": "ylf88IGjyDdo"
      }
    },
    {
      "cell_type": "markdown",
      "source": [
        "-> In Python, you can handle multiple exceptions using different techniques, ensuring that your program does not crash unexpectedly.\n",
        "\n",
        "1. Handling Multiple Exceptions with Multiple except Blocks\n",
        "\n",
        "```\n",
        "try:\n",
        "    num = int(input(\"Enter a number: \"))  # May raise ValueError\n",
        "    result = 10 / num  # May raise ZeroDivisionError\n",
        "except ZeroDivisionError:\n",
        "    print(\"Error: Cannot divide by zero.\")\n",
        "except ValueError:\n",
        "    print(\"Error: Invalid input. Please enter a number.\")\n",
        "\n",
        "```\n",
        "2. Handling Multiple Exceptions in a Single except Block\n",
        "\n",
        "```\n",
        "try:\n",
        "    num = int(input(\"Enter a number: \"))\n",
        "    result = 10 / num\n",
        "except (ZeroDivisionError, ValueError) as e:\n",
        "    print(f\"Error: {e}\")\n",
        "\n",
        "```\n",
        "3. Using a Generic except to Catch All Exceptions\n",
        "\n",
        "```\n",
        "try:\n",
        "    num = int(input(\"Enter a number: \"))\n",
        "    result = 10 / num\n",
        "except Exception as e:\n",
        "    print(f\"An error occurred: {e}\")\n",
        "\n",
        "```\n",
        "4. Using else and finally with Multiple Exceptions\n",
        "\n",
        "```\n",
        "try:\n",
        "    num = int(input(\"Enter a number: \"))\n",
        "    result = 10 / num\n",
        "except (ZeroDivisionError, ValueError) as e:\n",
        "    print(f\"Error: {e}\")\n",
        "else:\n",
        "    print(f\"Result: {result}\")  # Runs only if no exceptions occur\n",
        "finally:\n",
        "    print(\"Execution completed.\")  # Runs always\n",
        "\n",
        "```"
      ],
      "metadata": {
        "id": "ZONDNXWUyJc4"
      }
    },
    {
      "cell_type": "markdown",
      "source": [
        "# 8. What is the purpose of the with statement when handling files in Python?"
      ],
      "metadata": {
        "id": "i85p68Oq0K-8"
      }
    },
    {
      "cell_type": "markdown",
      "source": [
        "-> The with statement in Python is used to manage resources like files efficiently. It ensures that the file is automatically closed after its block is executed, even if an error occurs."
      ],
      "metadata": {
        "id": "_AhQr4Mh0aT2"
      }
    },
    {
      "cell_type": "markdown",
      "source": [
        "# 9. What is the difference between multithreading and multiprocessing?"
      ],
      "metadata": {
        "id": "8D4jMgPo0qJo"
      }
    },
    {
      "cell_type": "markdown",
      "source": [
        "-> Both multithreading and multiprocessing are used to perform multiple tasks concurrently in Python, but they work differently.\n",
        "\n",
        "Multithreading:\n",
        "\n",
        "  - Uses multiple threads within the same process.\n",
        "  - Threads share the same memory space.\n",
        "  - Best for I/O-bound tasks (e.g., reading/writing files, network requests).\n",
        "\n",
        "Multiprocessing\n",
        "  - Uses multiple processes, each with its own memory space.\n",
        "  - Each process runs independently.\n",
        "  - Best for CPU-bound tasks (e.g., heavy calculations, data processing).  "
      ],
      "metadata": {
        "id": "3RvBv1l40vyz"
      }
    },
    {
      "cell_type": "markdown",
      "source": [
        "# 10. What are the advantages of using logging in a program?"
      ],
      "metadata": {
        "id": "P2UKqaqk1knu"
      }
    },
    {
      "cell_type": "markdown",
      "source": [
        "-> Logging provides a structured way to track, debug, and monitor program execution. It is a better alternative to using print() for debugging.\n",
        "\n",
        "Advantages of Using Logging in a Program\n",
        "\n",
        "-  Helps in Debugging and Error Tracking\n",
        "-  Provides Different Logging Levels\n",
        "-  Saves Logs to a File for Future Analysis\n",
        "-  Thread-Safe Logging\n",
        "-  Improves Performance\n",
        "-  Helps in Application Monitoring & Maintenance"
      ],
      "metadata": {
        "id": "y42R-NcE1spH"
      }
    },
    {
      "cell_type": "markdown",
      "source": [
        "#11. What is memory management in Python?"
      ],
      "metadata": {
        "id": "XA4U3dHH2KNa"
      }
    },
    {
      "cell_type": "markdown",
      "source": [
        "-> Memory management in Python refers to how the language allocates, uses, and deallocates memory to ensure efficient program execution. Python handles memory automatically using dynamic memory allocation and garbage collection.\n",
        "\n",
        "Memory Management in Python :\n",
        "- Private Heap Memory - Stores all Python objects and data structures.\n",
        "- Memory Manager -\tAllocates and deallocates memory.\n",
        "- Reference Counting -\tTracks how many references an object has.\n",
        "- Garbage Collection -\tRemoves objects with zero references or circular references.\n",
        "- Stack Memory -\tStores function calls and local variables.\n",
        "- Heap Memory -\tStores objects like lists, dictionaries, and class instances.\n",
        "- Optimizations -\tSmall integer caching, string interning, and memory-efficient techniques like generators.\n"
      ],
      "metadata": {
        "id": "CJJxIVRS2S7G"
      }
    },
    {
      "cell_type": "markdown",
      "source": [
        "# 12. What are the basic steps involved in exception handling in Python?"
      ],
      "metadata": {
        "id": "vevU3rcb2-7z"
      }
    },
    {
      "cell_type": "markdown",
      "source": [
        "-> Exception handling in Python helps prevent crashes by handling runtime errors gracefully. It is done using try-except-finally blocks.\n",
        "\n",
        "\n",
        "Steps using an example :\n",
        "\n",
        "Any operation like division by zero, accessing an undefined variable, or opening a missing file can raise exceptions.\n",
        "\n",
        "- Step 1 : Identify Code That May Raise an Exception\n",
        "\n",
        "`x = 10 / 0`\n",
        "\n",
        "- Step 2 : Use a try Block to Wrap the Code\n",
        "\n",
        "`try: x = 10 / 0`\n",
        "\n",
        "- Step 3 : Catch Exceptions Using except Block\n",
        "\n",
        "`except ZeroDivisionError:`\n",
        "\n",
        "- Step 4 : Handle Multiple Exceptions\n",
        "\n",
        "`except (ZeroDivisionError, ValueError):`\n",
        "\n",
        "- Step 5 : Use else for Code That Runs Only If No Exceptions Occur\n",
        "\n",
        "`else: print(result)`\n",
        "\n",
        "- Step 6 : Use finally for Cleanup (Runs Always)\n",
        "\n",
        "`finally: file.close()`\n",
        "\n",
        "- Step 7 : Raise Custom Exceptions Using raise\n",
        "\n",
        "`raise ValueError(\"Invalid input\")`"
      ],
      "metadata": {
        "id": "0NncwH5k3C1g"
      }
    },
    {
      "cell_type": "markdown",
      "source": [
        "# 13.  Why is memory management important in Python?"
      ],
      "metadata": {
        "id": "sldNG7Tk5M8b"
      }
    },
    {
      "cell_type": "markdown",
      "source": [
        "-> Memory management is crucial in Python because it ensures efficient resource utilization, prevents memory leaks, and optimizes program performance. Since Python uses automatic memory management, developers don’t have to manually allocate or free memory, but understanding how it works can help write more efficient code."
      ],
      "metadata": {
        "id": "TrdnEFUc5VBW"
      }
    },
    {
      "cell_type": "markdown",
      "source": [
        "# 14. What is the role of try and except in exception handling?"
      ],
      "metadata": {
        "id": "26Ih0gva5a27"
      }
    },
    {
      "cell_type": "markdown",
      "source": [
        "-> The try and except blocks in Python are used for handling runtime errors (exceptions), preventing program crashes, and allowing graceful error handling.\n",
        "\n",
        "- try Block: Detects Potential Errors\n",
        "  - The try block contains the code that might raise an exception.\n",
        "  - If no exception occurs, the program runs normally.\n",
        "  - If an exception occurs, Python exits the try block and looks for an except block.\n",
        "\n",
        "- except Block: Handles the Error\n",
        "  - The except block catches the exception and prevents the program from crashing.\n",
        "  - It allows you to provide custom error messages or recovery actions.  "
      ],
      "metadata": {
        "id": "Uu7uhd4T5e9I"
      }
    },
    {
      "cell_type": "markdown",
      "source": [
        "# 15.  How does Python's garbage collection system work?\n"
      ],
      "metadata": {
        "id": "6EQ68ySP6Wpu"
      }
    },
    {
      "cell_type": "markdown",
      "source": [
        "-> Python’s garbage collection (GC) system automatically manages memory by reclaiming unused objects to prevent memory leaks and optimize performance. It primarily relies on reference counting and cyclic garbage collection.\n",
        "\n",
        "- Reference Counting\tDeletes objects when no references exist\n",
        "\n",
        "`sys.getrefcount(obj)`\n",
        "\n",
        "- Cyclic GC\tRemoves circular references\n",
        "\n",
        "`gc.collect()`\n",
        "\n",
        "- Generational GC\tOptimizes garbage collection by aging objects\n",
        "\n",
        "`gc.get_threshold()`\n",
        "\n",
        "- Manual GC Control\tEnables/disables GC\n",
        "\n",
        "`gc.disable() / gc.enable()`"
      ],
      "metadata": {
        "id": "5nglOdfG-iej"
      }
    },
    {
      "cell_type": "markdown",
      "source": [
        "#16. What is the purpose of the else block in exception handling?"
      ],
      "metadata": {
        "id": "_DdC9ZP7OXia"
      }
    },
    {
      "cell_type": "markdown",
      "source": [
        "-> The else block in exception handling is used to execute code only if no exception occurs in the try block. This helps in separating error-handling code from the normal execution logic, making the program more readable and structured."
      ],
      "metadata": {
        "id": "Zj7jcIwJObRD"
      }
    },
    {
      "cell_type": "markdown",
      "source": [
        "#17. What are the common logging levels in Python?"
      ],
      "metadata": {
        "id": "7h3OZNUUOwNk"
      }
    },
    {
      "cell_type": "markdown",
      "source": [
        "-> Python's logging module provides five standard logging levels to categorize log messages by their severity. These levels help developers monitor, debug, and analyze applications effectively.\n",
        "\n",
        "There are five logging levels in Python:\n",
        "\n",
        "- DEBUG -\tDetailed information, used for debugging\n",
        "- INFO -\tGeneral information about program execution\n",
        "- WARNING -\tIndicates a potential issue but does not stop execution\n",
        "- ERROR\t-\tA serious issue that prevents part of the program from running\n",
        "- CRITICAL -\tA severe error causing program termination"
      ],
      "metadata": {
        "id": "xQTSc22jOzZP"
      }
    },
    {
      "cell_type": "markdown",
      "source": [
        "#18. What is the difference between os.fork() and multiprocessing in Python?"
      ],
      "metadata": {
        "id": "AM0zEUoYQKao"
      }
    },
    {
      "cell_type": "markdown",
      "source": [
        "-> Both os.fork() and the multiprocessing module are used for creating new processes in Python, but they work differently and are suited for different use cases.\n",
        "\n",
        "- os.fork() :\n",
        "  - os.fork() creates a child process by duplicating the parent process.\n",
        "  - The child process runs the same code as the parent from the point of forking.\n",
        "  - Only available on UNIX-based systems (Linux, macOS).\n",
        "  - Faster (lightweight)\n",
        "\n",
        "- multiprocessing :  \n",
        "  - The multiprocessing module spawns separate Python processes, each with its own memory space.\n",
        "  - Works on both Windows and UNIX.\n",
        "  - Provides built-in communication (queues, pipes, shared memory, etc.).\n",
        "  - Slower (due to interpreter startup)"
      ],
      "metadata": {
        "id": "lnEg60YwQNMI"
      }
    },
    {
      "cell_type": "markdown",
      "source": [
        "# 19. What is the importance of closing a file in Python?"
      ],
      "metadata": {
        "id": "xAAu1_dmSJ89"
      }
    },
    {
      "cell_type": "markdown",
      "source": [
        "-> When working with files in Python, it is crucial to close them after use. Failing to do so can lead to resource leaks, data corruption, and unpredictable behavior.\n",
        "\n",
        "Why close a file :\n",
        "\n",
        "- Releases System Resources :\tKeeps system memory and file handles free for other tasks.\n",
        "- Ensures Data is Written\t: Prevents data loss by ensuring buffered data is written to the file.\n",
        "- Prevents Corruption\t: Closing a file properly reduces the risk of data corruption.\n",
        "- Avoids Errors\t: Open file handles may cause \"Too many open files\" errors.\n",
        "- Ensures Portability\t: Some operating systems may not commit changes until the file is closed."
      ],
      "metadata": {
        "id": "5ZA2kBcjSQES"
      }
    },
    {
      "cell_type": "markdown",
      "source": [
        "#20. What is the difference between file.read() and file.readline() in Python?"
      ],
      "metadata": {
        "id": "PFYQi1kzS7U_"
      }
    },
    {
      "cell_type": "markdown",
      "source": [
        "-> There are some differences between file.read() and file.readline() :\n",
        "\n",
        "- The `read()` method in Python is used to read a specific number of characters from a file or input stream, while the `readline()` method is used to read a single line from a file or input stream.\n",
        "\n",
        "-  The `read()` method reads the entire content of the file or input stream if no size is specified, while the `readline()` method reads from the current position until it encounters a newline character.\n",
        "\n",
        "- The `read()` method can be used to read binary data or text from a file, while the `readline()` method is typically used for reading lines of text.\n",
        "\n",
        "- When using `read()`, you need to specify the number of characters you want to read, while `readline()` automatically reads until a newline character is encountered.\n",
        "\n",
        "- Both `read()` and `readline()` can be used to read from files, stdin, or any other input stream in Python.\n",
        "\n",
        "- The `read()` method returns a string or bytes object, depending on whether the file is opened in text or binary mode, while `readline()` returns a string object containing the line read from the file.\n",
        "\n",
        "- `readline()` is particularly useful when processing text files line by line, while `read()` is more flexible for reading specific amounts of data at once."
      ],
      "metadata": {
        "id": "9xSFwVdVS__Y"
      }
    },
    {
      "cell_type": "markdown",
      "source": [
        "#21. What is the logging module in Python used for?"
      ],
      "metadata": {
        "id": "Pg2XzpQ3Ux65"
      }
    },
    {
      "cell_type": "markdown",
      "source": [
        "-> Python logging is a module that allows you to track events that occur while your program is running. You can use logging to record information about errors, warnings, and other events that occur during program execution. And logging is a useful tool for debugging, troubleshooting, and monitoring your program."
      ],
      "metadata": {
        "id": "1tPxiGcrU2K7"
      }
    },
    {
      "cell_type": "markdown",
      "source": [
        "#22. What is the os module in Python used for in file handling?"
      ],
      "metadata": {
        "id": "lThBaQhpV_sj"
      }
    },
    {
      "cell_type": "markdown",
      "source": [
        "-> The os module in Python provides functions to interact with the operating system, including file and directory management. It allows you to perform file handling tasks, such as creating, deleting, renaming, and navigating directories."
      ],
      "metadata": {
        "id": "1unevtjAWYuT"
      }
    },
    {
      "cell_type": "markdown",
      "source": [
        "#23. What are the challenges associated with memory management in Python?"
      ],
      "metadata": {
        "id": "6bN4fA3TXBOZ"
      }
    },
    {
      "cell_type": "markdown",
      "source": [
        "-> Python has an automatic memory management system, but it comes with some challenges like memory leaks due to circular references and potential performance overhead from garbage collection cycles.\n",
        "\n",
        "- Garbage Collection Overhead : Python uses automatic garbage collection to free up unused memory.\n",
        "\n",
        "- Memory Leaks : It happens when memory is allocated but never released, even when it is no longer needed.\n",
        "\n",
        "-  High Memory Usage : Lists, dictionaries, and sets grow dynamically, consuming more memory than expected."
      ],
      "metadata": {
        "id": "wSwxjUV_X7Wd"
      }
    },
    {
      "cell_type": "markdown",
      "source": [
        "#24.  How do you raise an exception manually in Python?"
      ],
      "metadata": {
        "id": "DIaiAaPYZb7x"
      }
    },
    {
      "cell_type": "markdown",
      "source": [
        "-> In Python, we can manually trigger an exception using the raise statement. This is useful when we want to enforce constraints, validate input, or handle errors in a controlled manner.\n",
        "\n",
        "- `Raise` built-in exceptions for common error types.\n",
        "- Define custom exceptions using `class MyException(Exception): pass`.\n",
        "- Handle exceptions inside `try-except` blocks.\n",
        "- Use `raise from` to maintain the original error context"
      ],
      "metadata": {
        "id": "lFazi_6MaDXS"
      }
    },
    {
      "cell_type": "markdown",
      "source": [
        "#25. Why is it important to use multithreading in certain applications?"
      ],
      "metadata": {
        "id": "bdLXz9aiap1e"
      }
    },
    {
      "cell_type": "markdown",
      "source": [
        "-> Multithreading allows the execution of multiple parts of a program at the same time. These parts are known as threads and are lightweight processes available within the process. So multithreading leads to maximum utilization of the CPU by multitasking. There is some important points :\n",
        "\n",
        "- Multithreading is useful for I/O-bound tasks, keeping applications responsive.\n",
        "- It reduces execution time by handling multiple operations at once.\n"
      ],
      "metadata": {
        "id": "rYWyM0ufau7w"
      }
    },
    {
      "cell_type": "markdown",
      "source": [
        "# Practical Questions"
      ],
      "metadata": {
        "id": "2bE1BuNvbcOf"
      }
    },
    {
      "cell_type": "markdown",
      "source": [
        "#1. How can you open a file for writing in Python and write a string to it?"
      ],
      "metadata": {
        "id": "Xd3xKR0CcwS6"
      }
    },
    {
      "cell_type": "code",
      "source": [
        "with open(\"example.txt\", \"w\") as file:\n",
        "    file.write(\"Hey there. This is example file content!\")\n",
        "\n",
        "print(\"File written successfully.\")"
      ],
      "metadata": {
        "colab": {
          "base_uri": "https://localhost:8080/"
        },
        "id": "NwuZHoX1c33k",
        "outputId": "55500c49-162a-4761-b858-d5eddd7705c0"
      },
      "execution_count": null,
      "outputs": [
        {
          "output_type": "stream",
          "name": "stdout",
          "text": [
            "File written successfully.\n"
          ]
        }
      ]
    },
    {
      "cell_type": "markdown",
      "source": [
        "2.  Write a Python program to read the contents of a file and print each line."
      ],
      "metadata": {
        "id": "G3MGY9IcdSAW"
      }
    },
    {
      "cell_type": "code",
      "source": [
        "with open(\"example.txt\", \"r\") as file:\n",
        "    for line in file:\n",
        "        print(line.strip())  # strip() removes extra newlines\n"
      ],
      "metadata": {
        "colab": {
          "base_uri": "https://localhost:8080/"
        },
        "id": "d-kPYefkc91G",
        "outputId": "001add84-9ba1-48cd-cc91-8ab26e10bfdf"
      },
      "execution_count": null,
      "outputs": [
        {
          "output_type": "stream",
          "name": "stdout",
          "text": [
            "Hey there. This is example file content!\n"
          ]
        }
      ]
    },
    {
      "cell_type": "markdown",
      "source": [
        "3. How would you handle a case where the file doesn't exist while trying to open it for reading?"
      ],
      "metadata": {
        "id": "uRX5B3jddkaL"
      }
    },
    {
      "cell_type": "code",
      "source": [
        "# We can use a try-except block to catch the FileNotFoundError\n",
        "try:\n",
        "    with open(\"example.txt\", \"r\") as file:\n",
        "        for line in file:\n",
        "            print(line.strip())\n",
        "except FileNotFoundError:\n",
        "    print(\"Error: The file does not exist.\")"
      ],
      "metadata": {
        "colab": {
          "base_uri": "https://localhost:8080/"
        },
        "id": "BhrDaWfzd7PG",
        "outputId": "86f32997-f3e0-481b-83f8-aa8b2ab7ed7e"
      },
      "execution_count": null,
      "outputs": [
        {
          "output_type": "stream",
          "name": "stdout",
          "text": [
            "Hey there. This is example file content!\n"
          ]
        }
      ]
    },
    {
      "cell_type": "markdown",
      "source": [
        "#4. Write a Python script that reads from one file and writes its content to another file."
      ],
      "metadata": {
        "id": "XD3V4xUse8q-"
      }
    },
    {
      "cell_type": "code",
      "source": [
        "# Creating a new file first\n",
        "\n",
        "with open(\"newfile.txt\", \"w\") as file:\n",
        "    file.write(\"This is a new file created in Python.\")\n",
        "print(\"newFile created successfully!\")\n",
        "\n",
        "# reads from one file and writes its content to another file.\n",
        "\n",
        "with open(\"example.txt\", \"r\") as source, open(\"newfile.txt\", \"w\") as destination:\n",
        "    for line in source:\n",
        "        destination.write(line)\n",
        "        print(\"File content copied successfully!\")"
      ],
      "metadata": {
        "colab": {
          "base_uri": "https://localhost:8080/"
        },
        "id": "K6SFrdHDd-sS",
        "outputId": "8af1e1f2-625a-48c2-8d50-1209b69a54d7"
      },
      "execution_count": null,
      "outputs": [
        {
          "output_type": "stream",
          "name": "stdout",
          "text": [
            "newFile created successfully!\n",
            "File content copied successfully!\n"
          ]
        }
      ]
    },
    {
      "cell_type": "markdown",
      "source": [
        "#5.  How would you catch and handle division by zero error in Python?"
      ],
      "metadata": {
        "id": "8sxj8f6Bk3hh"
      }
    },
    {
      "cell_type": "code",
      "source": [
        "try:\n",
        "    numerator = int(input(\"Enter numerator: \"))\n",
        "    denominator = int(input(\"Enter denominator: \"))\n",
        "\n",
        "    result = numerator / denominator  # This may raise a ZeroDivisionError\n",
        "    print(\"Result:\", result)\n",
        "\n",
        "except ZeroDivisionError:\n",
        "    print(\"Error: Cannot divide by zero!\")\n",
        "\n",
        "except ValueError:\n",
        "    print(\"Error: Please enter valid numbers!\")\n",
        "\n",
        "finally:\n",
        "    print(\"Execution completed.\")\n"
      ],
      "metadata": {
        "colab": {
          "base_uri": "https://localhost:8080/"
        },
        "id": "eO9yDgwofkf6",
        "outputId": "eab2b923-2b9e-4c9c-bc03-72b701e8b68a"
      },
      "execution_count": null,
      "outputs": [
        {
          "output_type": "stream",
          "name": "stdout",
          "text": [
            "Enter numerator: 5\n",
            "Enter denominator: 0\n",
            "Error: Cannot divide by zero!\n",
            "Execution completed.\n"
          ]
        }
      ]
    },
    {
      "cell_type": "markdown",
      "source": [
        "#6.  Write a Python program that logs an error message to a log file when a division by zero exception occurs."
      ],
      "metadata": {
        "id": "9aEuEZbalSAj"
      }
    },
    {
      "cell_type": "code",
      "source": [
        "import logging\n",
        "\n",
        "# Configure logging to log errors to a file\n",
        "logging.basicConfig(filename=\"error.log\", level=logging.ERROR)\n",
        "\n",
        "try:\n",
        "    a = 10\n",
        "    b = 0\n",
        "    result = a / b  # This will raise ZeroDivisionError\n",
        "\n",
        "except ZeroDivisionError:\n",
        "    logging.error(\"Error: Division by zero occurred.\")\n",
        "    print(\"Error: Division by zero! Check error.log for details.\")"
      ],
      "metadata": {
        "colab": {
          "base_uri": "https://localhost:8080/"
        },
        "id": "foFR0lQ5lNML",
        "outputId": "82db6609-ccce-4515-f974-1b30d2b50b0e"
      },
      "execution_count": null,
      "outputs": [
        {
          "output_type": "stream",
          "name": "stderr",
          "text": [
            "ERROR:root:Error: Division by zero occurred.\n"
          ]
        },
        {
          "output_type": "stream",
          "name": "stdout",
          "text": [
            "Error: Division by zero! Check error.log for details.\n"
          ]
        }
      ]
    },
    {
      "cell_type": "markdown",
      "source": [
        "#7.  How do you log information at different levels (INFO, ERROR, WARNING) in Python using the logging module?"
      ],
      "metadata": {
        "id": "3Yupgp8znYhC"
      }
    },
    {
      "cell_type": "code",
      "source": [
        "import logging\n",
        "\n",
        "# Configure logging\n",
        "logging.basicConfig(filename=\"app.log\", level=logging.DEBUG)\n",
        "\n",
        "# Log messages\n",
        "logging.debug(\"Debug message\")\n",
        "logging.info(\"Info message\")\n",
        "logging.warning(\"Warning message\")\n",
        "logging.error(\"Error message\")\n",
        "logging.critical(\"Critical message\")\n",
        "\n",
        "print(\"Logs saved to app.log\")\n"
      ],
      "metadata": {
        "colab": {
          "base_uri": "https://localhost:8080/"
        },
        "id": "tvjJJ_4qnL4M",
        "outputId": "9a3c3d8a-d7bd-4f3e-d2a3-543d12cf443a"
      },
      "execution_count": null,
      "outputs": [
        {
          "output_type": "stream",
          "name": "stderr",
          "text": [
            "WARNING:root:Warning message\n",
            "ERROR:root:Error message\n",
            "CRITICAL:root:Critical message\n"
          ]
        },
        {
          "output_type": "stream",
          "name": "stdout",
          "text": [
            "Logs saved to app.log\n"
          ]
        }
      ]
    },
    {
      "cell_type": "markdown",
      "source": [
        "#8. Write a program to handle a file opening error using exception handling."
      ],
      "metadata": {
        "id": "WWs6fQrdtRYP"
      }
    },
    {
      "cell_type": "code",
      "source": [
        "try:\n",
        "    # Attempt to open a non-existent file\n",
        "    with open(\"non_existent_file.txt\", \"r\") as file:\n",
        "        content = file.read()\n",
        "        print(content)\n",
        "\n",
        "except FileNotFoundError:\n",
        "    print(\"Error: The file was not found!\")\n"
      ],
      "metadata": {
        "colab": {
          "base_uri": "https://localhost:8080/"
        },
        "id": "KMyqr7Eotdm-",
        "outputId": "573fc83c-d787-470f-9bc3-d31c72300dc3"
      },
      "execution_count": null,
      "outputs": [
        {
          "output_type": "stream",
          "name": "stdout",
          "text": [
            "Error: The file was not found!\n"
          ]
        }
      ]
    },
    {
      "cell_type": "markdown",
      "source": [
        "#9. How can you read a file line by line and store its content in a list in Python?"
      ],
      "metadata": {
        "id": "94F0OGU-tkDO"
      }
    },
    {
      "cell_type": "code",
      "source": [
        "with open(\"example.txt\", \"r\") as file:\n",
        "    lines = file.readlines()\n",
        "\n",
        "print(lines)\n"
      ],
      "metadata": {
        "colab": {
          "base_uri": "https://localhost:8080/"
        },
        "id": "_m5wXj6HteKE",
        "outputId": "fe63af3e-3514-4936-bb00-bda792dac840"
      },
      "execution_count": null,
      "outputs": [
        {
          "output_type": "stream",
          "name": "stdout",
          "text": [
            "['Hey there. This is example file content!']\n"
          ]
        }
      ]
    },
    {
      "cell_type": "markdown",
      "source": [
        "#10. How can you append data to an existing file in Python?"
      ],
      "metadata": {
        "id": "ggRlAhUwuJcD"
      }
    },
    {
      "cell_type": "code",
      "source": [
        "with open(\"example.txt\", \"a\") as file:\n",
        "    file.write(\"\\nThis is a new line appended to the file.\")\n",
        "\n",
        "print(\"Data appended successfully!\")"
      ],
      "metadata": {
        "colab": {
          "base_uri": "https://localhost:8080/"
        },
        "id": "a7dcf0NVtwHS",
        "outputId": "bc2d2172-3a51-4e96-9ce5-1fed698f6fe1"
      },
      "execution_count": null,
      "outputs": [
        {
          "output_type": "stream",
          "name": "stdout",
          "text": [
            "Data appended successfully!\n"
          ]
        }
      ]
    },
    {
      "cell_type": "markdown",
      "source": [
        "#11. Write a Python program that uses a try-except block to handle an error when attempting to access a dictionary key that doesn't exist."
      ],
      "metadata": {
        "id": "U6Js8namup_V"
      }
    },
    {
      "cell_type": "code",
      "source": [
        "student_scores = {\"Alice\": 85, \"Stephan\": 90, \"Charlie\": 78}\n",
        "\n",
        "try:\n",
        "    # Attempt to access a key that may not exist\n",
        "    score = student_scores[\"David\"]\n",
        "    print(f\"David's score: {score}\")\n",
        "\n",
        "except KeyError:\n",
        "    print(\"Error: The key 'David' does not exist in the dictionary!\")\n"
      ],
      "metadata": {
        "colab": {
          "base_uri": "https://localhost:8080/"
        },
        "id": "p_ZPpdSWuiji",
        "outputId": "8e4a9de1-5135-40f7-8f49-a3c309cea459"
      },
      "execution_count": null,
      "outputs": [
        {
          "output_type": "stream",
          "name": "stdout",
          "text": [
            "Error: The key 'David' does not exist in the dictionary!\n"
          ]
        }
      ]
    },
    {
      "cell_type": "markdown",
      "source": [
        "#12. Write a program that demonstrates using multiple except blocks to handle different types of exceptions."
      ],
      "metadata": {
        "id": "K2AoB1nsvQek"
      }
    },
    {
      "cell_type": "code",
      "source": [
        "try:\n",
        "    # User input for division\n",
        "    num1 = int(input(\"Enter a number: \"))\n",
        "    num2 = int(input(\"Enter another number: \"))\n",
        "\n",
        "    # Perform division\n",
        "    result = num1 / num2\n",
        "\n",
        "    # Accessing an index that might not exist\n",
        "    my_list = [1, 2, 3]\n",
        "    print(my_list[5])  # IndexError\n",
        "\n",
        "except ZeroDivisionError:\n",
        "    print(\"Error: Cannot divide by zero!\")\n",
        "\n",
        "except ValueError:\n",
        "    print(\"Error: Invalid input! Please enter a valid number.\")\n",
        "\n",
        "except IndexError:\n",
        "    print(\"Error: List index out of range!\")\n",
        "\n",
        "except Exception as e:  # Catch-all for any other exceptions\n",
        "    print(f\"An unexpected error occurred: {e}\")\n",
        "\n",
        "finally:\n",
        "    print(\"Execution completed.\")\n"
      ],
      "metadata": {
        "colab": {
          "base_uri": "https://localhost:8080/"
        },
        "id": "-WVfUmVwvHeL",
        "outputId": "5cb9523f-21e3-46fc-b8c1-49d8c614a15f"
      },
      "execution_count": null,
      "outputs": [
        {
          "output_type": "stream",
          "name": "stdout",
          "text": [
            "Enter a number: 10\n",
            "Enter another number: 5\n",
            "Error: List index out of range!\n",
            "Execution completed.\n"
          ]
        }
      ]
    },
    {
      "cell_type": "markdown",
      "source": [
        "#13. How would you check if a file exists before attempting to read it in Python?"
      ],
      "metadata": {
        "id": "ElyCozo0MdIH"
      }
    },
    {
      "cell_type": "code",
      "source": [
        "import os\n",
        "\n",
        "file_path = \"example.txt\"\n",
        "\n",
        "if os.path.exists(file_path):\n",
        "    with open(file_path, \"r\") as file:\n",
        "        content = file.read()\n",
        "        print(content)\n",
        "else:\n",
        "    print(\"Error: File does not exist!\")\n"
      ],
      "metadata": {
        "colab": {
          "base_uri": "https://localhost:8080/"
        },
        "id": "gyqLNgyMv4fe",
        "outputId": "86798f32-dae3-4227-8539-9794ced06725"
      },
      "execution_count": null,
      "outputs": [
        {
          "output_type": "stream",
          "name": "stdout",
          "text": [
            "Error: File does not exist!\n"
          ]
        }
      ]
    },
    {
      "cell_type": "markdown",
      "source": [
        "#14.  Write a program that uses the logging module to log both informational and error messages."
      ],
      "metadata": {
        "id": "NccMAnF_NNZ4"
      }
    },
    {
      "cell_type": "code",
      "source": [
        "import logging\n",
        "\n",
        "\n",
        "logging.basicConfig(filename=\"app.log\", level=logging.INFO, format=\"%(levelname)s: %(message)s\")\n",
        "\n",
        "logging.info(\"Program started.\")\n",
        "\n",
        "try:\n",
        "    with open(\"non_existent_file.txt\", \"r\") as file:\n",
        "        content = file.read()\n",
        "        logging.info(\"File read successfully.\")\n",
        "except FileNotFoundError:\n",
        "    logging.error(\"Error: The file does not exist!\")\n",
        "\n",
        "# Log end of the program\n",
        "logging.info(\"Program finished.\")\n"
      ],
      "metadata": {
        "colab": {
          "base_uri": "https://localhost:8080/"
        },
        "id": "82SzdfFeMnjB",
        "outputId": "06e97eea-e32f-4562-983d-fe5e5e4600d2"
      },
      "execution_count": null,
      "outputs": [
        {
          "output_type": "stream",
          "name": "stderr",
          "text": [
            "ERROR:root:Error: The file does not exist!\n"
          ]
        }
      ]
    },
    {
      "cell_type": "markdown",
      "source": [
        "#15. Write a Python program that prints the content of a file and handles the case when the file is empty."
      ],
      "metadata": {
        "id": "fXHh5GShOY5B"
      }
    },
    {
      "cell_type": "code",
      "source": [
        "import os\n",
        "\n",
        "def read_file(file_path):\n",
        "    try:\n",
        "        if not os.path.exists(file_path):\n",
        "            print(\"Error: File does not exist!\")\n",
        "            return\n",
        "\n",
        "        with open(file_path, \"r\") as file:\n",
        "            content = file.read()\n",
        "\n",
        "            if not content:  # Check if the file is empty\n",
        "                print(\"The file is empty.\")\n",
        "            else:\n",
        "                print(\"File Content:\\n\")\n",
        "                print(content)\n",
        "\n",
        "    except Exception as e:\n",
        "        print(f\"An unexpected error occurred: {e}\")\n",
        "\n",
        "\n",
        "file_path = \"example.txt\"\n",
        "read_file(file_path)\n"
      ],
      "metadata": {
        "id": "d4wCLnUdN1wl",
        "colab": {
          "base_uri": "https://localhost:8080/"
        },
        "outputId": "dcb85283-ad54-4847-c6cd-596cdb4107ac"
      },
      "execution_count": null,
      "outputs": [
        {
          "output_type": "stream",
          "name": "stdout",
          "text": [
            "File Content:\n",
            "\n",
            "Hey there. This is example file content!\n"
          ]
        }
      ]
    },
    {
      "cell_type": "markdown",
      "source": [
        "#16. Demonstrate how to use memory profiling to check the memory usage of a small program."
      ],
      "metadata": {
        "id": "mXaDzY4VQUSn"
      }
    },
    {
      "cell_type": "code",
      "source": [
        "pip install memory-profiler\n"
      ],
      "metadata": {
        "colab": {
          "base_uri": "https://localhost:8080/"
        },
        "id": "if1ehir7OyZI",
        "outputId": "9823886d-0f56-4fa0-ceba-959c5f2ca1d1"
      },
      "execution_count": null,
      "outputs": [
        {
          "output_type": "stream",
          "name": "stdout",
          "text": [
            "Collecting memory-profiler\n",
            "  Downloading memory_profiler-0.61.0-py3-none-any.whl.metadata (20 kB)\n",
            "Requirement already satisfied: psutil in /usr/local/lib/python3.11/dist-packages (from memory-profiler) (5.9.5)\n",
            "Downloading memory_profiler-0.61.0-py3-none-any.whl (31 kB)\n",
            "Installing collected packages: memory-profiler\n",
            "Successfully installed memory-profiler-0.61.0\n"
          ]
        }
      ]
    },
    {
      "cell_type": "code",
      "source": [
        "from memory_profiler import memory_usage\n",
        "\n",
        "def create_large_list():\n",
        "    data = [i for i in range(10**6)]  # Creating a list with 1 million numbers\n",
        "    return data\n",
        "\n",
        "# Measure memory usage\n",
        "mem_usage = memory_usage(create_large_list)\n",
        "print(f\"Memory usage: {max(mem_usage) - min(mem_usage)} MiB\")\n"
      ],
      "metadata": {
        "colab": {
          "base_uri": "https://localhost:8080/"
        },
        "id": "nMgjWgxJQiI2",
        "outputId": "8349bcbe-21ba-475c-e722-468c7ab833e4"
      },
      "execution_count": null,
      "outputs": [
        {
          "output_type": "stream",
          "name": "stdout",
          "text": [
            "Memory usage: 37.5390625 MiB\n"
          ]
        }
      ]
    },
    {
      "cell_type": "markdown",
      "source": [
        "#17. Write a Python program to create and write a list of numbers to a file, one number per line."
      ],
      "metadata": {
        "id": "qGyV3EbaRqBe"
      }
    },
    {
      "cell_type": "code",
      "source": [
        "numbers = [1, 2, 3, 4, 5, 10, 20, 30]\n",
        "\n",
        "file_name = \"numbers.txt\"\n",
        "\n",
        "# Write numbers to the file\n",
        "with open(file_name, \"w\") as file:\n",
        "    for num in numbers:\n",
        "        file.write(f\"{num}\\n\")  # Write each number on a new line\n",
        "\n",
        "print(f\"Numbers written to {file_name}\")\n"
      ],
      "metadata": {
        "colab": {
          "base_uri": "https://localhost:8080/"
        },
        "id": "AA-KChvNRUel",
        "outputId": "b50427d0-3751-4217-af1e-b85a31afaed7"
      },
      "execution_count": null,
      "outputs": [
        {
          "output_type": "stream",
          "name": "stdout",
          "text": [
            "Numbers written to numbers.txt\n"
          ]
        }
      ]
    },
    {
      "cell_type": "markdown",
      "source": [
        "#18. How would you implement a basic logging setup that logs to a file with rotation after 1MB?"
      ],
      "metadata": {
        "id": "GJ54ftGTSD3G"
      }
    },
    {
      "cell_type": "code",
      "source": [
        "import logging\n",
        "from logging.handlers import RotatingFileHandler\n",
        "\n",
        "logger = logging.getLogger(\"my_logger\")\n",
        "logger.setLevel(logging.INFO)\n",
        "\n",
        "# Configure rotating file handler (1MB max size, keep last 3 logs)\n",
        "log_file = \"app.log\"\n",
        "handler = RotatingFileHandler(log_file, maxBytes=1_000_000, backupCount=3)\n",
        "formatter = logging.Formatter(\"%(asctime)s - %(levelname)s - %(message)s\")\n",
        "handler.setFormatter(formatter)\n",
        "\n",
        "# Add handler to logger\n",
        "logger.addHandler(handler)\n",
        "\n",
        "# Log messages\n",
        "for i in range(1000):\n",
        "    logger.info(f\"Log entry {i}\")\n",
        "\n",
        "\n",
        "for handler in logger.handlers:\n",
        "    handler.flush()\n",
        "\n",
        "print(\"Logs are being written to app.log with rotation after 1MB.\")\n"
      ],
      "metadata": {
        "colab": {
          "base_uri": "https://localhost:8080/"
        },
        "id": "xbg8p_tOR51i",
        "outputId": "d3f09d4f-88e8-4a3f-99bc-0d74762c40d4",
        "collapsed": true
      },
      "execution_count": 23,
      "outputs": [
        {
          "output_type": "stream",
          "name": "stderr",
          "text": [
            "INFO:my_logger:Log entry 0\n",
            "INFO:my_logger:Log entry 1\n",
            "INFO:my_logger:Log entry 2\n",
            "INFO:my_logger:Log entry 3\n",
            "INFO:my_logger:Log entry 4\n",
            "INFO:my_logger:Log entry 5\n",
            "INFO:my_logger:Log entry 6\n",
            "INFO:my_logger:Log entry 7\n",
            "INFO:my_logger:Log entry 8\n",
            "INFO:my_logger:Log entry 9\n",
            "INFO:my_logger:Log entry 10\n",
            "INFO:my_logger:Log entry 11\n",
            "INFO:my_logger:Log entry 12\n",
            "INFO:my_logger:Log entry 13\n",
            "INFO:my_logger:Log entry 14\n",
            "INFO:my_logger:Log entry 15\n",
            "INFO:my_logger:Log entry 16\n",
            "INFO:my_logger:Log entry 17\n",
            "INFO:my_logger:Log entry 18\n",
            "INFO:my_logger:Log entry 19\n",
            "INFO:my_logger:Log entry 20\n",
            "INFO:my_logger:Log entry 21\n",
            "INFO:my_logger:Log entry 22\n",
            "INFO:my_logger:Log entry 23\n",
            "INFO:my_logger:Log entry 24\n",
            "INFO:my_logger:Log entry 25\n",
            "INFO:my_logger:Log entry 26\n",
            "INFO:my_logger:Log entry 27\n",
            "INFO:my_logger:Log entry 28\n",
            "INFO:my_logger:Log entry 29\n",
            "INFO:my_logger:Log entry 30\n",
            "INFO:my_logger:Log entry 31\n",
            "INFO:my_logger:Log entry 32\n",
            "INFO:my_logger:Log entry 33\n",
            "INFO:my_logger:Log entry 34\n",
            "INFO:my_logger:Log entry 35\n",
            "INFO:my_logger:Log entry 36\n",
            "INFO:my_logger:Log entry 37\n",
            "INFO:my_logger:Log entry 38\n",
            "INFO:my_logger:Log entry 39\n",
            "INFO:my_logger:Log entry 40\n",
            "INFO:my_logger:Log entry 41\n",
            "INFO:my_logger:Log entry 42\n",
            "INFO:my_logger:Log entry 43\n",
            "INFO:my_logger:Log entry 44\n",
            "INFO:my_logger:Log entry 45\n",
            "INFO:my_logger:Log entry 46\n",
            "INFO:my_logger:Log entry 47\n",
            "INFO:my_logger:Log entry 48\n",
            "INFO:my_logger:Log entry 49\n",
            "INFO:my_logger:Log entry 50\n",
            "INFO:my_logger:Log entry 51\n",
            "INFO:my_logger:Log entry 52\n",
            "INFO:my_logger:Log entry 53\n",
            "INFO:my_logger:Log entry 54\n",
            "INFO:my_logger:Log entry 55\n",
            "INFO:my_logger:Log entry 56\n",
            "INFO:my_logger:Log entry 57\n",
            "INFO:my_logger:Log entry 58\n",
            "INFO:my_logger:Log entry 59\n",
            "INFO:my_logger:Log entry 60\n",
            "INFO:my_logger:Log entry 61\n",
            "INFO:my_logger:Log entry 62\n",
            "INFO:my_logger:Log entry 63\n",
            "INFO:my_logger:Log entry 64\n",
            "INFO:my_logger:Log entry 65\n",
            "INFO:my_logger:Log entry 66\n",
            "INFO:my_logger:Log entry 67\n",
            "INFO:my_logger:Log entry 68\n",
            "INFO:my_logger:Log entry 69\n",
            "INFO:my_logger:Log entry 70\n",
            "INFO:my_logger:Log entry 71\n",
            "INFO:my_logger:Log entry 72\n",
            "INFO:my_logger:Log entry 73\n",
            "INFO:my_logger:Log entry 74\n",
            "INFO:my_logger:Log entry 75\n",
            "INFO:my_logger:Log entry 76\n",
            "INFO:my_logger:Log entry 77\n",
            "INFO:my_logger:Log entry 78\n",
            "INFO:my_logger:Log entry 79\n",
            "INFO:my_logger:Log entry 80\n",
            "INFO:my_logger:Log entry 81\n",
            "INFO:my_logger:Log entry 82\n",
            "INFO:my_logger:Log entry 83\n",
            "INFO:my_logger:Log entry 84\n",
            "INFO:my_logger:Log entry 85\n",
            "INFO:my_logger:Log entry 86\n",
            "INFO:my_logger:Log entry 87\n",
            "INFO:my_logger:Log entry 88\n",
            "INFO:my_logger:Log entry 89\n",
            "INFO:my_logger:Log entry 90\n",
            "INFO:my_logger:Log entry 91\n",
            "INFO:my_logger:Log entry 92\n",
            "INFO:my_logger:Log entry 93\n",
            "INFO:my_logger:Log entry 94\n",
            "INFO:my_logger:Log entry 95\n",
            "INFO:my_logger:Log entry 96\n",
            "INFO:my_logger:Log entry 97\n",
            "INFO:my_logger:Log entry 98\n",
            "INFO:my_logger:Log entry 99\n",
            "INFO:my_logger:Log entry 100\n",
            "INFO:my_logger:Log entry 101\n",
            "INFO:my_logger:Log entry 102\n",
            "INFO:my_logger:Log entry 103\n",
            "INFO:my_logger:Log entry 104\n",
            "INFO:my_logger:Log entry 105\n",
            "INFO:my_logger:Log entry 106\n",
            "INFO:my_logger:Log entry 107\n",
            "INFO:my_logger:Log entry 108\n",
            "INFO:my_logger:Log entry 109\n",
            "INFO:my_logger:Log entry 110\n",
            "INFO:my_logger:Log entry 111\n",
            "INFO:my_logger:Log entry 112\n",
            "INFO:my_logger:Log entry 113\n",
            "INFO:my_logger:Log entry 114\n",
            "INFO:my_logger:Log entry 115\n",
            "INFO:my_logger:Log entry 116\n",
            "INFO:my_logger:Log entry 117\n",
            "INFO:my_logger:Log entry 118\n",
            "INFO:my_logger:Log entry 119\n",
            "INFO:my_logger:Log entry 120\n",
            "INFO:my_logger:Log entry 121\n",
            "INFO:my_logger:Log entry 122\n",
            "INFO:my_logger:Log entry 123\n",
            "INFO:my_logger:Log entry 124\n",
            "INFO:my_logger:Log entry 125\n",
            "INFO:my_logger:Log entry 126\n",
            "INFO:my_logger:Log entry 127\n",
            "INFO:my_logger:Log entry 128\n",
            "INFO:my_logger:Log entry 129\n",
            "INFO:my_logger:Log entry 130\n",
            "INFO:my_logger:Log entry 131\n",
            "INFO:my_logger:Log entry 132\n",
            "INFO:my_logger:Log entry 133\n",
            "INFO:my_logger:Log entry 134\n",
            "INFO:my_logger:Log entry 135\n",
            "INFO:my_logger:Log entry 136\n",
            "INFO:my_logger:Log entry 137\n",
            "INFO:my_logger:Log entry 138\n",
            "INFO:my_logger:Log entry 139\n",
            "INFO:my_logger:Log entry 140\n",
            "INFO:my_logger:Log entry 141\n",
            "INFO:my_logger:Log entry 142\n",
            "INFO:my_logger:Log entry 143\n",
            "INFO:my_logger:Log entry 144\n",
            "INFO:my_logger:Log entry 145\n",
            "INFO:my_logger:Log entry 146\n",
            "INFO:my_logger:Log entry 147\n",
            "INFO:my_logger:Log entry 148\n",
            "INFO:my_logger:Log entry 149\n",
            "INFO:my_logger:Log entry 150\n",
            "INFO:my_logger:Log entry 151\n",
            "INFO:my_logger:Log entry 152\n",
            "INFO:my_logger:Log entry 153\n",
            "INFO:my_logger:Log entry 154\n",
            "INFO:my_logger:Log entry 155\n",
            "INFO:my_logger:Log entry 156\n",
            "INFO:my_logger:Log entry 157\n",
            "INFO:my_logger:Log entry 158\n",
            "INFO:my_logger:Log entry 159\n",
            "INFO:my_logger:Log entry 160\n",
            "INFO:my_logger:Log entry 161\n",
            "INFO:my_logger:Log entry 162\n",
            "INFO:my_logger:Log entry 163\n",
            "INFO:my_logger:Log entry 164\n",
            "INFO:my_logger:Log entry 165\n",
            "INFO:my_logger:Log entry 166\n",
            "INFO:my_logger:Log entry 167\n",
            "INFO:my_logger:Log entry 168\n",
            "INFO:my_logger:Log entry 169\n",
            "INFO:my_logger:Log entry 170\n",
            "INFO:my_logger:Log entry 171\n",
            "INFO:my_logger:Log entry 172\n",
            "INFO:my_logger:Log entry 173\n",
            "INFO:my_logger:Log entry 174\n",
            "INFO:my_logger:Log entry 175\n",
            "INFO:my_logger:Log entry 176\n",
            "INFO:my_logger:Log entry 177\n",
            "INFO:my_logger:Log entry 178\n",
            "INFO:my_logger:Log entry 179\n",
            "INFO:my_logger:Log entry 180\n",
            "INFO:my_logger:Log entry 181\n",
            "INFO:my_logger:Log entry 182\n",
            "INFO:my_logger:Log entry 183\n",
            "INFO:my_logger:Log entry 184\n",
            "INFO:my_logger:Log entry 185\n",
            "INFO:my_logger:Log entry 186\n",
            "INFO:my_logger:Log entry 187\n",
            "INFO:my_logger:Log entry 188\n",
            "INFO:my_logger:Log entry 189\n",
            "INFO:my_logger:Log entry 190\n",
            "INFO:my_logger:Log entry 191\n",
            "INFO:my_logger:Log entry 192\n",
            "INFO:my_logger:Log entry 193\n",
            "INFO:my_logger:Log entry 194\n",
            "INFO:my_logger:Log entry 195\n",
            "INFO:my_logger:Log entry 196\n",
            "INFO:my_logger:Log entry 197\n",
            "INFO:my_logger:Log entry 198\n",
            "INFO:my_logger:Log entry 199\n",
            "INFO:my_logger:Log entry 200\n",
            "INFO:my_logger:Log entry 201\n",
            "INFO:my_logger:Log entry 202\n",
            "INFO:my_logger:Log entry 203\n",
            "INFO:my_logger:Log entry 204\n",
            "INFO:my_logger:Log entry 205\n",
            "INFO:my_logger:Log entry 206\n",
            "INFO:my_logger:Log entry 207\n",
            "INFO:my_logger:Log entry 208\n",
            "INFO:my_logger:Log entry 209\n",
            "INFO:my_logger:Log entry 210\n",
            "INFO:my_logger:Log entry 211\n",
            "INFO:my_logger:Log entry 212\n",
            "INFO:my_logger:Log entry 213\n",
            "INFO:my_logger:Log entry 214\n",
            "INFO:my_logger:Log entry 215\n",
            "INFO:my_logger:Log entry 216\n",
            "INFO:my_logger:Log entry 217\n",
            "INFO:my_logger:Log entry 218\n",
            "INFO:my_logger:Log entry 219\n",
            "INFO:my_logger:Log entry 220\n",
            "INFO:my_logger:Log entry 221\n",
            "INFO:my_logger:Log entry 222\n",
            "INFO:my_logger:Log entry 223\n",
            "INFO:my_logger:Log entry 224\n",
            "INFO:my_logger:Log entry 225\n",
            "INFO:my_logger:Log entry 226\n",
            "INFO:my_logger:Log entry 227\n",
            "INFO:my_logger:Log entry 228\n",
            "INFO:my_logger:Log entry 229\n",
            "INFO:my_logger:Log entry 230\n",
            "INFO:my_logger:Log entry 231\n",
            "INFO:my_logger:Log entry 232\n",
            "INFO:my_logger:Log entry 233\n",
            "INFO:my_logger:Log entry 234\n",
            "INFO:my_logger:Log entry 235\n",
            "INFO:my_logger:Log entry 236\n",
            "INFO:my_logger:Log entry 237\n",
            "INFO:my_logger:Log entry 238\n",
            "INFO:my_logger:Log entry 239\n",
            "INFO:my_logger:Log entry 240\n",
            "INFO:my_logger:Log entry 241\n",
            "INFO:my_logger:Log entry 242\n",
            "INFO:my_logger:Log entry 243\n",
            "INFO:my_logger:Log entry 244\n",
            "INFO:my_logger:Log entry 245\n",
            "INFO:my_logger:Log entry 246\n",
            "INFO:my_logger:Log entry 247\n",
            "INFO:my_logger:Log entry 248\n",
            "INFO:my_logger:Log entry 249\n",
            "INFO:my_logger:Log entry 250\n",
            "INFO:my_logger:Log entry 251\n",
            "INFO:my_logger:Log entry 252\n",
            "INFO:my_logger:Log entry 253\n",
            "INFO:my_logger:Log entry 254\n",
            "INFO:my_logger:Log entry 255\n",
            "INFO:my_logger:Log entry 256\n",
            "INFO:my_logger:Log entry 257\n",
            "INFO:my_logger:Log entry 258\n",
            "INFO:my_logger:Log entry 259\n",
            "INFO:my_logger:Log entry 260\n",
            "INFO:my_logger:Log entry 261\n",
            "INFO:my_logger:Log entry 262\n",
            "INFO:my_logger:Log entry 263\n",
            "INFO:my_logger:Log entry 264\n",
            "INFO:my_logger:Log entry 265\n",
            "INFO:my_logger:Log entry 266\n",
            "INFO:my_logger:Log entry 267\n",
            "INFO:my_logger:Log entry 268\n",
            "INFO:my_logger:Log entry 269\n",
            "INFO:my_logger:Log entry 270\n",
            "INFO:my_logger:Log entry 271\n",
            "INFO:my_logger:Log entry 272\n",
            "INFO:my_logger:Log entry 273\n",
            "INFO:my_logger:Log entry 274\n",
            "INFO:my_logger:Log entry 275\n",
            "INFO:my_logger:Log entry 276\n",
            "INFO:my_logger:Log entry 277\n",
            "INFO:my_logger:Log entry 278\n",
            "INFO:my_logger:Log entry 279\n",
            "INFO:my_logger:Log entry 280\n",
            "INFO:my_logger:Log entry 281\n",
            "INFO:my_logger:Log entry 282\n",
            "INFO:my_logger:Log entry 283\n",
            "INFO:my_logger:Log entry 284\n",
            "INFO:my_logger:Log entry 285\n",
            "INFO:my_logger:Log entry 286\n",
            "INFO:my_logger:Log entry 287\n",
            "INFO:my_logger:Log entry 288\n",
            "INFO:my_logger:Log entry 289\n",
            "INFO:my_logger:Log entry 290\n",
            "INFO:my_logger:Log entry 291\n",
            "INFO:my_logger:Log entry 292\n",
            "INFO:my_logger:Log entry 293\n",
            "INFO:my_logger:Log entry 294\n",
            "INFO:my_logger:Log entry 295\n",
            "INFO:my_logger:Log entry 296\n",
            "INFO:my_logger:Log entry 297\n",
            "INFO:my_logger:Log entry 298\n",
            "INFO:my_logger:Log entry 299\n",
            "INFO:my_logger:Log entry 300\n",
            "INFO:my_logger:Log entry 301\n",
            "INFO:my_logger:Log entry 302\n",
            "INFO:my_logger:Log entry 303\n",
            "INFO:my_logger:Log entry 304\n",
            "INFO:my_logger:Log entry 305\n",
            "INFO:my_logger:Log entry 306\n",
            "INFO:my_logger:Log entry 307\n",
            "INFO:my_logger:Log entry 308\n",
            "INFO:my_logger:Log entry 309\n",
            "INFO:my_logger:Log entry 310\n",
            "INFO:my_logger:Log entry 311\n",
            "INFO:my_logger:Log entry 312\n",
            "INFO:my_logger:Log entry 313\n",
            "INFO:my_logger:Log entry 314\n",
            "INFO:my_logger:Log entry 315\n",
            "INFO:my_logger:Log entry 316\n",
            "INFO:my_logger:Log entry 317\n",
            "INFO:my_logger:Log entry 318\n",
            "INFO:my_logger:Log entry 319\n",
            "INFO:my_logger:Log entry 320\n",
            "INFO:my_logger:Log entry 321\n",
            "INFO:my_logger:Log entry 322\n",
            "INFO:my_logger:Log entry 323\n",
            "INFO:my_logger:Log entry 324\n",
            "INFO:my_logger:Log entry 325\n",
            "INFO:my_logger:Log entry 326\n",
            "INFO:my_logger:Log entry 327\n",
            "INFO:my_logger:Log entry 328\n",
            "INFO:my_logger:Log entry 329\n",
            "INFO:my_logger:Log entry 330\n",
            "INFO:my_logger:Log entry 331\n",
            "INFO:my_logger:Log entry 332\n",
            "INFO:my_logger:Log entry 333\n",
            "INFO:my_logger:Log entry 334\n",
            "INFO:my_logger:Log entry 335\n",
            "INFO:my_logger:Log entry 336\n",
            "INFO:my_logger:Log entry 337\n",
            "INFO:my_logger:Log entry 338\n",
            "INFO:my_logger:Log entry 339\n",
            "INFO:my_logger:Log entry 340\n",
            "INFO:my_logger:Log entry 341\n",
            "INFO:my_logger:Log entry 342\n",
            "INFO:my_logger:Log entry 343\n",
            "INFO:my_logger:Log entry 344\n",
            "INFO:my_logger:Log entry 345\n",
            "INFO:my_logger:Log entry 346\n",
            "INFO:my_logger:Log entry 347\n",
            "INFO:my_logger:Log entry 348\n",
            "INFO:my_logger:Log entry 349\n",
            "INFO:my_logger:Log entry 350\n",
            "INFO:my_logger:Log entry 351\n",
            "INFO:my_logger:Log entry 352\n",
            "INFO:my_logger:Log entry 353\n",
            "INFO:my_logger:Log entry 354\n",
            "INFO:my_logger:Log entry 355\n",
            "INFO:my_logger:Log entry 356\n",
            "INFO:my_logger:Log entry 357\n",
            "INFO:my_logger:Log entry 358\n",
            "INFO:my_logger:Log entry 359\n",
            "INFO:my_logger:Log entry 360\n",
            "INFO:my_logger:Log entry 361\n",
            "INFO:my_logger:Log entry 362\n",
            "INFO:my_logger:Log entry 363\n",
            "INFO:my_logger:Log entry 364\n",
            "INFO:my_logger:Log entry 365\n",
            "INFO:my_logger:Log entry 366\n",
            "INFO:my_logger:Log entry 367\n",
            "INFO:my_logger:Log entry 368\n",
            "INFO:my_logger:Log entry 369\n",
            "INFO:my_logger:Log entry 370\n",
            "INFO:my_logger:Log entry 371\n",
            "INFO:my_logger:Log entry 372\n",
            "INFO:my_logger:Log entry 373\n",
            "INFO:my_logger:Log entry 374\n",
            "INFO:my_logger:Log entry 375\n",
            "INFO:my_logger:Log entry 376\n",
            "INFO:my_logger:Log entry 377\n",
            "INFO:my_logger:Log entry 378\n",
            "INFO:my_logger:Log entry 379\n",
            "INFO:my_logger:Log entry 380\n",
            "INFO:my_logger:Log entry 381\n",
            "INFO:my_logger:Log entry 382\n",
            "INFO:my_logger:Log entry 383\n",
            "INFO:my_logger:Log entry 384\n",
            "INFO:my_logger:Log entry 385\n",
            "INFO:my_logger:Log entry 386\n",
            "INFO:my_logger:Log entry 387\n",
            "INFO:my_logger:Log entry 388\n",
            "INFO:my_logger:Log entry 389\n",
            "INFO:my_logger:Log entry 390\n",
            "INFO:my_logger:Log entry 391\n",
            "INFO:my_logger:Log entry 392\n",
            "INFO:my_logger:Log entry 393\n",
            "INFO:my_logger:Log entry 394\n",
            "INFO:my_logger:Log entry 395\n",
            "INFO:my_logger:Log entry 396\n",
            "INFO:my_logger:Log entry 397\n",
            "INFO:my_logger:Log entry 398\n",
            "INFO:my_logger:Log entry 399\n",
            "INFO:my_logger:Log entry 400\n",
            "INFO:my_logger:Log entry 401\n",
            "INFO:my_logger:Log entry 402\n",
            "INFO:my_logger:Log entry 403\n",
            "INFO:my_logger:Log entry 404\n",
            "INFO:my_logger:Log entry 405\n",
            "INFO:my_logger:Log entry 406\n",
            "INFO:my_logger:Log entry 407\n",
            "INFO:my_logger:Log entry 408\n",
            "INFO:my_logger:Log entry 409\n",
            "INFO:my_logger:Log entry 410\n",
            "INFO:my_logger:Log entry 411\n",
            "INFO:my_logger:Log entry 412\n",
            "INFO:my_logger:Log entry 413\n",
            "INFO:my_logger:Log entry 414\n",
            "INFO:my_logger:Log entry 415\n",
            "INFO:my_logger:Log entry 416\n",
            "INFO:my_logger:Log entry 417\n",
            "INFO:my_logger:Log entry 418\n",
            "INFO:my_logger:Log entry 419\n",
            "INFO:my_logger:Log entry 420\n",
            "INFO:my_logger:Log entry 421\n",
            "INFO:my_logger:Log entry 422\n",
            "INFO:my_logger:Log entry 423\n",
            "INFO:my_logger:Log entry 424\n",
            "INFO:my_logger:Log entry 425\n",
            "INFO:my_logger:Log entry 426\n",
            "INFO:my_logger:Log entry 427\n",
            "INFO:my_logger:Log entry 428\n",
            "INFO:my_logger:Log entry 429\n",
            "INFO:my_logger:Log entry 430\n",
            "INFO:my_logger:Log entry 431\n",
            "INFO:my_logger:Log entry 432\n",
            "INFO:my_logger:Log entry 433\n",
            "INFO:my_logger:Log entry 434\n",
            "INFO:my_logger:Log entry 435\n",
            "INFO:my_logger:Log entry 436\n",
            "INFO:my_logger:Log entry 437\n",
            "INFO:my_logger:Log entry 438\n",
            "INFO:my_logger:Log entry 439\n",
            "INFO:my_logger:Log entry 440\n",
            "INFO:my_logger:Log entry 441\n",
            "INFO:my_logger:Log entry 442\n",
            "INFO:my_logger:Log entry 443\n",
            "INFO:my_logger:Log entry 444\n",
            "INFO:my_logger:Log entry 445\n",
            "INFO:my_logger:Log entry 446\n",
            "INFO:my_logger:Log entry 447\n",
            "INFO:my_logger:Log entry 448\n",
            "INFO:my_logger:Log entry 449\n",
            "INFO:my_logger:Log entry 450\n",
            "INFO:my_logger:Log entry 451\n",
            "INFO:my_logger:Log entry 452\n",
            "INFO:my_logger:Log entry 453\n",
            "INFO:my_logger:Log entry 454\n",
            "INFO:my_logger:Log entry 455\n",
            "INFO:my_logger:Log entry 456\n",
            "INFO:my_logger:Log entry 457\n",
            "INFO:my_logger:Log entry 458\n",
            "INFO:my_logger:Log entry 459\n",
            "INFO:my_logger:Log entry 460\n",
            "INFO:my_logger:Log entry 461\n",
            "INFO:my_logger:Log entry 462\n",
            "INFO:my_logger:Log entry 463\n",
            "INFO:my_logger:Log entry 464\n",
            "INFO:my_logger:Log entry 465\n",
            "INFO:my_logger:Log entry 466\n",
            "INFO:my_logger:Log entry 467\n",
            "INFO:my_logger:Log entry 468\n",
            "INFO:my_logger:Log entry 469\n",
            "INFO:my_logger:Log entry 470\n",
            "INFO:my_logger:Log entry 471\n",
            "INFO:my_logger:Log entry 472\n",
            "INFO:my_logger:Log entry 473\n",
            "INFO:my_logger:Log entry 474\n",
            "INFO:my_logger:Log entry 475\n",
            "INFO:my_logger:Log entry 476\n",
            "INFO:my_logger:Log entry 477\n",
            "INFO:my_logger:Log entry 478\n",
            "INFO:my_logger:Log entry 479\n",
            "INFO:my_logger:Log entry 480\n",
            "INFO:my_logger:Log entry 481\n",
            "INFO:my_logger:Log entry 482\n",
            "INFO:my_logger:Log entry 483\n",
            "INFO:my_logger:Log entry 484\n",
            "INFO:my_logger:Log entry 485\n",
            "INFO:my_logger:Log entry 486\n",
            "INFO:my_logger:Log entry 487\n",
            "INFO:my_logger:Log entry 488\n",
            "INFO:my_logger:Log entry 489\n",
            "INFO:my_logger:Log entry 490\n",
            "INFO:my_logger:Log entry 491\n",
            "INFO:my_logger:Log entry 492\n",
            "INFO:my_logger:Log entry 493\n",
            "INFO:my_logger:Log entry 494\n",
            "INFO:my_logger:Log entry 495\n",
            "INFO:my_logger:Log entry 496\n",
            "INFO:my_logger:Log entry 497\n",
            "INFO:my_logger:Log entry 498\n",
            "INFO:my_logger:Log entry 499\n",
            "INFO:my_logger:Log entry 500\n",
            "INFO:my_logger:Log entry 501\n",
            "INFO:my_logger:Log entry 502\n",
            "INFO:my_logger:Log entry 503\n",
            "INFO:my_logger:Log entry 504\n",
            "INFO:my_logger:Log entry 505\n",
            "INFO:my_logger:Log entry 506\n",
            "INFO:my_logger:Log entry 507\n",
            "INFO:my_logger:Log entry 508\n",
            "INFO:my_logger:Log entry 509\n",
            "INFO:my_logger:Log entry 510\n",
            "INFO:my_logger:Log entry 511\n",
            "INFO:my_logger:Log entry 512\n",
            "INFO:my_logger:Log entry 513\n",
            "INFO:my_logger:Log entry 514\n",
            "INFO:my_logger:Log entry 515\n",
            "INFO:my_logger:Log entry 516\n",
            "INFO:my_logger:Log entry 517\n",
            "INFO:my_logger:Log entry 518\n",
            "INFO:my_logger:Log entry 519\n",
            "INFO:my_logger:Log entry 520\n",
            "INFO:my_logger:Log entry 521\n",
            "INFO:my_logger:Log entry 522\n",
            "INFO:my_logger:Log entry 523\n",
            "INFO:my_logger:Log entry 524\n",
            "INFO:my_logger:Log entry 525\n",
            "INFO:my_logger:Log entry 526\n",
            "INFO:my_logger:Log entry 527\n",
            "INFO:my_logger:Log entry 528\n",
            "INFO:my_logger:Log entry 529\n",
            "INFO:my_logger:Log entry 530\n",
            "INFO:my_logger:Log entry 531\n",
            "INFO:my_logger:Log entry 532\n",
            "INFO:my_logger:Log entry 533\n",
            "INFO:my_logger:Log entry 534\n",
            "INFO:my_logger:Log entry 535\n",
            "INFO:my_logger:Log entry 536\n",
            "INFO:my_logger:Log entry 537\n",
            "INFO:my_logger:Log entry 538\n",
            "INFO:my_logger:Log entry 539\n",
            "INFO:my_logger:Log entry 540\n",
            "INFO:my_logger:Log entry 541\n",
            "INFO:my_logger:Log entry 542\n",
            "INFO:my_logger:Log entry 543\n",
            "INFO:my_logger:Log entry 544\n",
            "INFO:my_logger:Log entry 545\n",
            "INFO:my_logger:Log entry 546\n",
            "INFO:my_logger:Log entry 547\n",
            "INFO:my_logger:Log entry 548\n",
            "INFO:my_logger:Log entry 549\n",
            "INFO:my_logger:Log entry 550\n",
            "INFO:my_logger:Log entry 551\n",
            "INFO:my_logger:Log entry 552\n",
            "INFO:my_logger:Log entry 553\n",
            "INFO:my_logger:Log entry 554\n",
            "INFO:my_logger:Log entry 555\n",
            "INFO:my_logger:Log entry 556\n",
            "INFO:my_logger:Log entry 557\n",
            "INFO:my_logger:Log entry 558\n",
            "INFO:my_logger:Log entry 559\n",
            "INFO:my_logger:Log entry 560\n",
            "INFO:my_logger:Log entry 561\n",
            "INFO:my_logger:Log entry 562\n",
            "INFO:my_logger:Log entry 563\n",
            "INFO:my_logger:Log entry 564\n",
            "INFO:my_logger:Log entry 565\n",
            "INFO:my_logger:Log entry 566\n",
            "INFO:my_logger:Log entry 567\n",
            "INFO:my_logger:Log entry 568\n",
            "INFO:my_logger:Log entry 569\n",
            "INFO:my_logger:Log entry 570\n",
            "INFO:my_logger:Log entry 571\n",
            "INFO:my_logger:Log entry 572\n",
            "INFO:my_logger:Log entry 573\n",
            "INFO:my_logger:Log entry 574\n",
            "INFO:my_logger:Log entry 575\n",
            "INFO:my_logger:Log entry 576\n",
            "INFO:my_logger:Log entry 577\n",
            "INFO:my_logger:Log entry 578\n",
            "INFO:my_logger:Log entry 579\n",
            "INFO:my_logger:Log entry 580\n",
            "INFO:my_logger:Log entry 581\n",
            "INFO:my_logger:Log entry 582\n",
            "INFO:my_logger:Log entry 583\n",
            "INFO:my_logger:Log entry 584\n",
            "INFO:my_logger:Log entry 585\n",
            "INFO:my_logger:Log entry 586\n",
            "INFO:my_logger:Log entry 587\n",
            "INFO:my_logger:Log entry 588\n",
            "INFO:my_logger:Log entry 589\n",
            "INFO:my_logger:Log entry 590\n",
            "INFO:my_logger:Log entry 591\n",
            "INFO:my_logger:Log entry 592\n",
            "INFO:my_logger:Log entry 593\n",
            "INFO:my_logger:Log entry 594\n",
            "INFO:my_logger:Log entry 595\n",
            "INFO:my_logger:Log entry 596\n",
            "INFO:my_logger:Log entry 597\n",
            "INFO:my_logger:Log entry 598\n",
            "INFO:my_logger:Log entry 599\n",
            "INFO:my_logger:Log entry 600\n",
            "INFO:my_logger:Log entry 601\n",
            "INFO:my_logger:Log entry 602\n",
            "INFO:my_logger:Log entry 603\n",
            "INFO:my_logger:Log entry 604\n",
            "INFO:my_logger:Log entry 605\n",
            "INFO:my_logger:Log entry 606\n",
            "INFO:my_logger:Log entry 607\n",
            "INFO:my_logger:Log entry 608\n",
            "INFO:my_logger:Log entry 609\n",
            "INFO:my_logger:Log entry 610\n",
            "INFO:my_logger:Log entry 611\n",
            "INFO:my_logger:Log entry 612\n",
            "INFO:my_logger:Log entry 613\n",
            "INFO:my_logger:Log entry 614\n",
            "INFO:my_logger:Log entry 615\n",
            "INFO:my_logger:Log entry 616\n",
            "INFO:my_logger:Log entry 617\n",
            "INFO:my_logger:Log entry 618\n",
            "INFO:my_logger:Log entry 619\n",
            "INFO:my_logger:Log entry 620\n",
            "INFO:my_logger:Log entry 621\n",
            "INFO:my_logger:Log entry 622\n",
            "INFO:my_logger:Log entry 623\n",
            "INFO:my_logger:Log entry 624\n",
            "INFO:my_logger:Log entry 625\n",
            "INFO:my_logger:Log entry 626\n",
            "INFO:my_logger:Log entry 627\n",
            "INFO:my_logger:Log entry 628\n",
            "INFO:my_logger:Log entry 629\n",
            "INFO:my_logger:Log entry 630\n",
            "INFO:my_logger:Log entry 631\n",
            "INFO:my_logger:Log entry 632\n",
            "INFO:my_logger:Log entry 633\n",
            "INFO:my_logger:Log entry 634\n",
            "INFO:my_logger:Log entry 635\n",
            "INFO:my_logger:Log entry 636\n",
            "INFO:my_logger:Log entry 637\n",
            "INFO:my_logger:Log entry 638\n",
            "INFO:my_logger:Log entry 639\n",
            "INFO:my_logger:Log entry 640\n",
            "INFO:my_logger:Log entry 641\n",
            "INFO:my_logger:Log entry 642\n",
            "INFO:my_logger:Log entry 643\n",
            "INFO:my_logger:Log entry 644\n",
            "INFO:my_logger:Log entry 645\n",
            "INFO:my_logger:Log entry 646\n",
            "INFO:my_logger:Log entry 647\n",
            "INFO:my_logger:Log entry 648\n",
            "INFO:my_logger:Log entry 649\n",
            "INFO:my_logger:Log entry 650\n",
            "INFO:my_logger:Log entry 651\n",
            "INFO:my_logger:Log entry 652\n",
            "INFO:my_logger:Log entry 653\n",
            "INFO:my_logger:Log entry 654\n",
            "INFO:my_logger:Log entry 655\n",
            "INFO:my_logger:Log entry 656\n",
            "INFO:my_logger:Log entry 657\n",
            "INFO:my_logger:Log entry 658\n",
            "INFO:my_logger:Log entry 659\n",
            "INFO:my_logger:Log entry 660\n",
            "INFO:my_logger:Log entry 661\n",
            "INFO:my_logger:Log entry 662\n",
            "INFO:my_logger:Log entry 663\n",
            "INFO:my_logger:Log entry 664\n",
            "INFO:my_logger:Log entry 665\n",
            "INFO:my_logger:Log entry 666\n",
            "INFO:my_logger:Log entry 667\n",
            "INFO:my_logger:Log entry 668\n",
            "INFO:my_logger:Log entry 669\n",
            "INFO:my_logger:Log entry 670\n",
            "INFO:my_logger:Log entry 671\n",
            "INFO:my_logger:Log entry 672\n",
            "INFO:my_logger:Log entry 673\n",
            "INFO:my_logger:Log entry 674\n",
            "INFO:my_logger:Log entry 675\n",
            "INFO:my_logger:Log entry 676\n",
            "INFO:my_logger:Log entry 677\n",
            "INFO:my_logger:Log entry 678\n",
            "INFO:my_logger:Log entry 679\n",
            "INFO:my_logger:Log entry 680\n",
            "INFO:my_logger:Log entry 681\n",
            "INFO:my_logger:Log entry 682\n",
            "INFO:my_logger:Log entry 683\n",
            "INFO:my_logger:Log entry 684\n",
            "INFO:my_logger:Log entry 685\n",
            "INFO:my_logger:Log entry 686\n",
            "INFO:my_logger:Log entry 687\n",
            "INFO:my_logger:Log entry 688\n",
            "INFO:my_logger:Log entry 689\n",
            "INFO:my_logger:Log entry 690\n",
            "INFO:my_logger:Log entry 691\n",
            "INFO:my_logger:Log entry 692\n",
            "INFO:my_logger:Log entry 693\n",
            "INFO:my_logger:Log entry 694\n",
            "INFO:my_logger:Log entry 695\n",
            "INFO:my_logger:Log entry 696\n",
            "INFO:my_logger:Log entry 697\n",
            "INFO:my_logger:Log entry 698\n",
            "INFO:my_logger:Log entry 699\n",
            "INFO:my_logger:Log entry 700\n",
            "INFO:my_logger:Log entry 701\n",
            "INFO:my_logger:Log entry 702\n",
            "INFO:my_logger:Log entry 703\n",
            "INFO:my_logger:Log entry 704\n",
            "INFO:my_logger:Log entry 705\n",
            "INFO:my_logger:Log entry 706\n",
            "INFO:my_logger:Log entry 707\n",
            "INFO:my_logger:Log entry 708\n",
            "INFO:my_logger:Log entry 709\n",
            "INFO:my_logger:Log entry 710\n",
            "INFO:my_logger:Log entry 711\n",
            "INFO:my_logger:Log entry 712\n",
            "INFO:my_logger:Log entry 713\n",
            "INFO:my_logger:Log entry 714\n",
            "INFO:my_logger:Log entry 715\n",
            "INFO:my_logger:Log entry 716\n",
            "INFO:my_logger:Log entry 717\n",
            "INFO:my_logger:Log entry 718\n",
            "INFO:my_logger:Log entry 719\n",
            "INFO:my_logger:Log entry 720\n",
            "INFO:my_logger:Log entry 721\n",
            "INFO:my_logger:Log entry 722\n",
            "INFO:my_logger:Log entry 723\n",
            "INFO:my_logger:Log entry 724\n",
            "INFO:my_logger:Log entry 725\n",
            "INFO:my_logger:Log entry 726\n",
            "INFO:my_logger:Log entry 727\n",
            "INFO:my_logger:Log entry 728\n",
            "INFO:my_logger:Log entry 729\n",
            "INFO:my_logger:Log entry 730\n",
            "INFO:my_logger:Log entry 731\n",
            "INFO:my_logger:Log entry 732\n",
            "INFO:my_logger:Log entry 733\n",
            "INFO:my_logger:Log entry 734\n",
            "INFO:my_logger:Log entry 735\n",
            "INFO:my_logger:Log entry 736\n",
            "INFO:my_logger:Log entry 737\n",
            "INFO:my_logger:Log entry 738\n",
            "INFO:my_logger:Log entry 739\n",
            "INFO:my_logger:Log entry 740\n",
            "INFO:my_logger:Log entry 741\n",
            "INFO:my_logger:Log entry 742\n",
            "INFO:my_logger:Log entry 743\n",
            "INFO:my_logger:Log entry 744\n",
            "INFO:my_logger:Log entry 745\n",
            "INFO:my_logger:Log entry 746\n",
            "INFO:my_logger:Log entry 747\n",
            "INFO:my_logger:Log entry 748\n",
            "INFO:my_logger:Log entry 749\n",
            "INFO:my_logger:Log entry 750\n",
            "INFO:my_logger:Log entry 751\n",
            "INFO:my_logger:Log entry 752\n",
            "INFO:my_logger:Log entry 753\n",
            "INFO:my_logger:Log entry 754\n",
            "INFO:my_logger:Log entry 755\n",
            "INFO:my_logger:Log entry 756\n",
            "INFO:my_logger:Log entry 757\n",
            "INFO:my_logger:Log entry 758\n",
            "INFO:my_logger:Log entry 759\n",
            "INFO:my_logger:Log entry 760\n",
            "INFO:my_logger:Log entry 761\n",
            "INFO:my_logger:Log entry 762\n",
            "INFO:my_logger:Log entry 763\n",
            "INFO:my_logger:Log entry 764\n",
            "INFO:my_logger:Log entry 765\n",
            "INFO:my_logger:Log entry 766\n",
            "INFO:my_logger:Log entry 767\n",
            "INFO:my_logger:Log entry 768\n",
            "INFO:my_logger:Log entry 769\n",
            "INFO:my_logger:Log entry 770\n",
            "INFO:my_logger:Log entry 771\n",
            "INFO:my_logger:Log entry 772\n",
            "INFO:my_logger:Log entry 773\n",
            "INFO:my_logger:Log entry 774\n",
            "INFO:my_logger:Log entry 775\n",
            "INFO:my_logger:Log entry 776\n",
            "INFO:my_logger:Log entry 777\n",
            "INFO:my_logger:Log entry 778\n",
            "INFO:my_logger:Log entry 779\n",
            "INFO:my_logger:Log entry 780\n",
            "INFO:my_logger:Log entry 781\n",
            "INFO:my_logger:Log entry 782\n",
            "INFO:my_logger:Log entry 783\n",
            "INFO:my_logger:Log entry 784\n",
            "INFO:my_logger:Log entry 785\n",
            "INFO:my_logger:Log entry 786\n",
            "INFO:my_logger:Log entry 787\n",
            "INFO:my_logger:Log entry 788\n",
            "INFO:my_logger:Log entry 789\n",
            "INFO:my_logger:Log entry 790\n",
            "INFO:my_logger:Log entry 791\n",
            "INFO:my_logger:Log entry 792\n",
            "INFO:my_logger:Log entry 793\n",
            "INFO:my_logger:Log entry 794\n",
            "INFO:my_logger:Log entry 795\n",
            "INFO:my_logger:Log entry 796\n",
            "INFO:my_logger:Log entry 797\n",
            "INFO:my_logger:Log entry 798\n",
            "INFO:my_logger:Log entry 799\n",
            "INFO:my_logger:Log entry 800\n",
            "INFO:my_logger:Log entry 801\n",
            "INFO:my_logger:Log entry 802\n",
            "INFO:my_logger:Log entry 803\n",
            "INFO:my_logger:Log entry 804\n",
            "INFO:my_logger:Log entry 805\n",
            "INFO:my_logger:Log entry 806\n",
            "INFO:my_logger:Log entry 807\n",
            "INFO:my_logger:Log entry 808\n",
            "INFO:my_logger:Log entry 809\n",
            "INFO:my_logger:Log entry 810\n",
            "INFO:my_logger:Log entry 811\n",
            "INFO:my_logger:Log entry 812\n",
            "INFO:my_logger:Log entry 813\n",
            "INFO:my_logger:Log entry 814\n",
            "INFO:my_logger:Log entry 815\n",
            "INFO:my_logger:Log entry 816\n",
            "INFO:my_logger:Log entry 817\n",
            "INFO:my_logger:Log entry 818\n",
            "INFO:my_logger:Log entry 819\n",
            "INFO:my_logger:Log entry 820\n",
            "INFO:my_logger:Log entry 821\n",
            "INFO:my_logger:Log entry 822\n",
            "INFO:my_logger:Log entry 823\n",
            "INFO:my_logger:Log entry 824\n",
            "INFO:my_logger:Log entry 825\n",
            "INFO:my_logger:Log entry 826\n",
            "INFO:my_logger:Log entry 827\n",
            "INFO:my_logger:Log entry 828\n",
            "INFO:my_logger:Log entry 829\n",
            "INFO:my_logger:Log entry 830\n",
            "INFO:my_logger:Log entry 831\n",
            "INFO:my_logger:Log entry 832\n",
            "INFO:my_logger:Log entry 833\n",
            "INFO:my_logger:Log entry 834\n",
            "INFO:my_logger:Log entry 835\n",
            "INFO:my_logger:Log entry 836\n",
            "INFO:my_logger:Log entry 837\n",
            "INFO:my_logger:Log entry 838\n",
            "INFO:my_logger:Log entry 839\n",
            "INFO:my_logger:Log entry 840\n",
            "INFO:my_logger:Log entry 841\n",
            "INFO:my_logger:Log entry 842\n",
            "INFO:my_logger:Log entry 843\n",
            "INFO:my_logger:Log entry 844\n",
            "INFO:my_logger:Log entry 845\n",
            "INFO:my_logger:Log entry 846\n",
            "INFO:my_logger:Log entry 847\n",
            "INFO:my_logger:Log entry 848\n",
            "INFO:my_logger:Log entry 849\n",
            "INFO:my_logger:Log entry 850\n",
            "INFO:my_logger:Log entry 851\n",
            "INFO:my_logger:Log entry 852\n",
            "INFO:my_logger:Log entry 853\n",
            "INFO:my_logger:Log entry 854\n",
            "INFO:my_logger:Log entry 855\n",
            "INFO:my_logger:Log entry 856\n",
            "INFO:my_logger:Log entry 857\n",
            "INFO:my_logger:Log entry 858\n",
            "INFO:my_logger:Log entry 859\n",
            "INFO:my_logger:Log entry 860\n",
            "INFO:my_logger:Log entry 861\n",
            "INFO:my_logger:Log entry 862\n",
            "INFO:my_logger:Log entry 863\n",
            "INFO:my_logger:Log entry 864\n",
            "INFO:my_logger:Log entry 865\n",
            "INFO:my_logger:Log entry 866\n",
            "INFO:my_logger:Log entry 867\n",
            "INFO:my_logger:Log entry 868\n",
            "INFO:my_logger:Log entry 869\n",
            "INFO:my_logger:Log entry 870\n",
            "INFO:my_logger:Log entry 871\n",
            "INFO:my_logger:Log entry 872\n",
            "INFO:my_logger:Log entry 873\n",
            "INFO:my_logger:Log entry 874\n",
            "INFO:my_logger:Log entry 875\n",
            "INFO:my_logger:Log entry 876\n",
            "INFO:my_logger:Log entry 877\n",
            "INFO:my_logger:Log entry 878\n",
            "INFO:my_logger:Log entry 879\n",
            "INFO:my_logger:Log entry 880\n",
            "INFO:my_logger:Log entry 881\n",
            "INFO:my_logger:Log entry 882\n",
            "INFO:my_logger:Log entry 883\n",
            "INFO:my_logger:Log entry 884\n",
            "INFO:my_logger:Log entry 885\n",
            "INFO:my_logger:Log entry 886\n",
            "INFO:my_logger:Log entry 887\n",
            "INFO:my_logger:Log entry 888\n",
            "INFO:my_logger:Log entry 889\n",
            "INFO:my_logger:Log entry 890\n",
            "INFO:my_logger:Log entry 891\n",
            "INFO:my_logger:Log entry 892\n",
            "INFO:my_logger:Log entry 893\n",
            "INFO:my_logger:Log entry 894\n",
            "INFO:my_logger:Log entry 895\n",
            "INFO:my_logger:Log entry 896\n",
            "INFO:my_logger:Log entry 897\n",
            "INFO:my_logger:Log entry 898\n",
            "INFO:my_logger:Log entry 899\n",
            "INFO:my_logger:Log entry 900\n",
            "INFO:my_logger:Log entry 901\n",
            "INFO:my_logger:Log entry 902\n",
            "INFO:my_logger:Log entry 903\n",
            "INFO:my_logger:Log entry 904\n",
            "INFO:my_logger:Log entry 905\n",
            "INFO:my_logger:Log entry 906\n",
            "INFO:my_logger:Log entry 907\n",
            "INFO:my_logger:Log entry 908\n",
            "INFO:my_logger:Log entry 909\n",
            "INFO:my_logger:Log entry 910\n",
            "INFO:my_logger:Log entry 911\n",
            "INFO:my_logger:Log entry 912\n",
            "INFO:my_logger:Log entry 913\n",
            "INFO:my_logger:Log entry 914\n",
            "INFO:my_logger:Log entry 915\n",
            "INFO:my_logger:Log entry 916\n",
            "INFO:my_logger:Log entry 917\n",
            "INFO:my_logger:Log entry 918\n",
            "INFO:my_logger:Log entry 919\n",
            "INFO:my_logger:Log entry 920\n",
            "INFO:my_logger:Log entry 921\n",
            "INFO:my_logger:Log entry 922\n",
            "INFO:my_logger:Log entry 923\n",
            "INFO:my_logger:Log entry 924\n",
            "INFO:my_logger:Log entry 925\n",
            "INFO:my_logger:Log entry 926\n",
            "INFO:my_logger:Log entry 927\n",
            "INFO:my_logger:Log entry 928\n",
            "INFO:my_logger:Log entry 929\n",
            "INFO:my_logger:Log entry 930\n",
            "INFO:my_logger:Log entry 931\n",
            "INFO:my_logger:Log entry 932\n",
            "INFO:my_logger:Log entry 933\n",
            "INFO:my_logger:Log entry 934\n",
            "INFO:my_logger:Log entry 935\n",
            "INFO:my_logger:Log entry 936\n",
            "INFO:my_logger:Log entry 937\n",
            "INFO:my_logger:Log entry 938\n",
            "INFO:my_logger:Log entry 939\n",
            "INFO:my_logger:Log entry 940\n",
            "INFO:my_logger:Log entry 941\n",
            "INFO:my_logger:Log entry 942\n",
            "INFO:my_logger:Log entry 943\n",
            "INFO:my_logger:Log entry 944\n",
            "INFO:my_logger:Log entry 945\n",
            "INFO:my_logger:Log entry 946\n",
            "INFO:my_logger:Log entry 947\n",
            "INFO:my_logger:Log entry 948\n",
            "INFO:my_logger:Log entry 949\n",
            "INFO:my_logger:Log entry 950\n",
            "INFO:my_logger:Log entry 951\n",
            "INFO:my_logger:Log entry 952\n",
            "INFO:my_logger:Log entry 953\n",
            "INFO:my_logger:Log entry 954\n",
            "INFO:my_logger:Log entry 955\n",
            "INFO:my_logger:Log entry 956\n",
            "INFO:my_logger:Log entry 957\n",
            "INFO:my_logger:Log entry 958\n",
            "INFO:my_logger:Log entry 959\n",
            "INFO:my_logger:Log entry 960\n",
            "INFO:my_logger:Log entry 961\n",
            "INFO:my_logger:Log entry 962\n",
            "INFO:my_logger:Log entry 963\n",
            "INFO:my_logger:Log entry 964\n",
            "INFO:my_logger:Log entry 965\n",
            "INFO:my_logger:Log entry 966\n",
            "INFO:my_logger:Log entry 967\n",
            "INFO:my_logger:Log entry 968\n",
            "INFO:my_logger:Log entry 969\n",
            "INFO:my_logger:Log entry 970\n",
            "INFO:my_logger:Log entry 971\n",
            "INFO:my_logger:Log entry 972\n",
            "INFO:my_logger:Log entry 973\n",
            "INFO:my_logger:Log entry 974\n",
            "INFO:my_logger:Log entry 975\n",
            "INFO:my_logger:Log entry 976\n",
            "INFO:my_logger:Log entry 977\n",
            "INFO:my_logger:Log entry 978\n",
            "INFO:my_logger:Log entry 979\n",
            "INFO:my_logger:Log entry 980\n",
            "INFO:my_logger:Log entry 981\n",
            "INFO:my_logger:Log entry 982\n",
            "INFO:my_logger:Log entry 983\n",
            "INFO:my_logger:Log entry 984\n",
            "INFO:my_logger:Log entry 985\n",
            "INFO:my_logger:Log entry 986\n",
            "INFO:my_logger:Log entry 987\n",
            "INFO:my_logger:Log entry 988\n",
            "INFO:my_logger:Log entry 989\n",
            "INFO:my_logger:Log entry 990\n",
            "INFO:my_logger:Log entry 991\n",
            "INFO:my_logger:Log entry 992\n",
            "INFO:my_logger:Log entry 993\n",
            "INFO:my_logger:Log entry 994\n",
            "INFO:my_logger:Log entry 995\n",
            "INFO:my_logger:Log entry 996\n",
            "INFO:my_logger:Log entry 997\n",
            "INFO:my_logger:Log entry 998\n",
            "INFO:my_logger:Log entry 999\n"
          ]
        },
        {
          "output_type": "stream",
          "name": "stdout",
          "text": [
            "Logs are being written to app.log with rotation after 1MB.\n"
          ]
        }
      ]
    },
    {
      "cell_type": "markdown",
      "source": [
        "#19. Write a program that handles both IndexError and KeyError using a try-except block."
      ],
      "metadata": {
        "id": "a8OIM5uIUQre"
      }
    },
    {
      "cell_type": "code",
      "source": [
        "try:\n",
        "    # List with 3 elements\n",
        "    my_list = [10, 20, 30]\n",
        "\n",
        "    # Dictionary with 2 keys\n",
        "    my_dict = {\"name\": \"Alice\", \"age\": 25}\n",
        "\n",
        "    # Trying to access an out-of-range index (causes IndexError)\n",
        "    print(my_list[5])\n",
        "\n",
        "    # Trying to access a missing key in the dictionary (causes KeyError)\n",
        "    print(my_dict[\"address\"])\n",
        "\n",
        "except IndexError:\n",
        "    print(\"IndexError: List index is out of range.\")\n",
        "\n",
        "except KeyError:\n",
        "    print(\"KeyError: Dictionary key not found.\")\n",
        "\n",
        "print(\"Program continues after handling exceptions.\")\n"
      ],
      "metadata": {
        "id": "H88R0DW3Sgw0",
        "colab": {
          "base_uri": "https://localhost:8080/"
        },
        "outputId": "a4f89f3d-31b5-470f-fd60-0b4d30d09d77"
      },
      "execution_count": 24,
      "outputs": [
        {
          "output_type": "stream",
          "name": "stdout",
          "text": [
            "IndexError: List index is out of range.\n",
            "Program continues after handling exceptions.\n"
          ]
        }
      ]
    },
    {
      "cell_type": "markdown",
      "source": [
        "#20. How would you open a file and read its contents using a context manager in Python?"
      ],
      "metadata": {
        "id": "7OypXWMRUe5i"
      }
    },
    {
      "cell_type": "code",
      "source": [
        "with open(\"example.txt\", \"r\") as file:\n",
        "    content = file.read()  # Read the entire file\n",
        "\n",
        "# Print the file contents\n",
        "print(content)\n"
      ],
      "metadata": {
        "colab": {
          "base_uri": "https://localhost:8080/"
        },
        "id": "MJ_ThfzmUb-x",
        "outputId": "5fb0e7f8-c347-4427-bd3e-38f4e12c7268"
      },
      "execution_count": 25,
      "outputs": [
        {
          "output_type": "stream",
          "name": "stdout",
          "text": [
            "Hey there. This is example file content!\n"
          ]
        }
      ]
    },
    {
      "cell_type": "markdown",
      "source": [
        "#21. Write a Python program that reads a file and prints the number of occurrences of a specific word."
      ],
      "metadata": {
        "id": "ICufHqNuU9E6"
      }
    },
    {
      "cell_type": "code",
      "source": [
        "def count_word_occurrences(filename, word):\n",
        "    try:\n",
        "        with open(filename, \"r\") as file:\n",
        "            content = file.read().lower()  # Read the file and convert to lowercase\n",
        "            words = content.split()  # Split content into words\n",
        "            count = words.count(word.lower())  # Count occurrences of the word\n",
        "        print(f\"The word '{word}' appears {count} times in '{filename}'.\")\n",
        "    except FileNotFoundError:\n",
        "        print(f\"Error: The file '{filename}' was not found.\")\n",
        "    except Exception as e:\n",
        "        print(f\"An error occurred: {e}\")\n",
        "\n"
      ],
      "metadata": {
        "id": "etJC2jAIUy47"
      },
      "execution_count": 26,
      "outputs": []
    },
    {
      "cell_type": "code",
      "source": [
        "filename = \"example.txt\"\n",
        "word_to_count = \"Hey\"\n",
        "count_word_occurrences(filename, word_to_count)"
      ],
      "metadata": {
        "colab": {
          "base_uri": "https://localhost:8080/"
        },
        "id": "HXVF49lUVO22",
        "outputId": "f2c67412-9af3-4375-b645-b57431306bd8"
      },
      "execution_count": 30,
      "outputs": [
        {
          "output_type": "stream",
          "name": "stdout",
          "text": [
            "The word 'Hey' appears 1 times in 'example.txt'.\n"
          ]
        }
      ]
    },
    {
      "cell_type": "markdown",
      "source": [
        "#22.  How can you check if a file is empty before attempting to read its contents?"
      ],
      "metadata": {
        "id": "tAkhTMbRV3ab"
      }
    },
    {
      "cell_type": "code",
      "source": [
        "import os\n",
        "\n",
        "filename = \"example.txt\"\n",
        "\n",
        "# Check if file exists and is empty\n",
        "if os.path.exists(filename) and os.path.getsize(filename) == 0:\n",
        "    print(f\"The file '{filename}' is empty.\")\n",
        "else:\n",
        "    print(f\"The file '{filename}' has content.\")\n"
      ],
      "metadata": {
        "colab": {
          "base_uri": "https://localhost:8080/"
        },
        "id": "0Jn6FSoIV5wq",
        "outputId": "30d19015-4c71-4308-cb6f-9a250408f122"
      },
      "execution_count": 31,
      "outputs": [
        {
          "output_type": "stream",
          "name": "stdout",
          "text": [
            "The file 'example.txt' has content.\n"
          ]
        }
      ]
    },
    {
      "cell_type": "markdown",
      "source": [
        "#23.  Write a Python program that writes to a log file when an error occurs during file handling."
      ],
      "metadata": {
        "id": "ezu8rYW_WRiz"
      }
    },
    {
      "cell_type": "code",
      "source": [
        "import logging\n",
        "\n",
        "# Configure logging\n",
        "logging.basicConfig(\n",
        "    filename=\"file_errors.log\",  # Log file name\n",
        "    level=logging.ERROR,  #\n",
        "    format=\"%(asctime)s - %(levelname)s - %(message)s\"\n",
        "                   )\n",
        "\n",
        "def read_file(filename):\n",
        "    try:\n",
        "        with open(filename, \"r\") as file:\n",
        "            content = file.read()\n",
        "            print(\"File content:\\n\", content)\n",
        "    except FileNotFoundError:\n",
        "        logging.error(f\"Error: The file '{filename}' was not found.\")\n",
        "        print(f\"Error: The file '{filename}' does not exist. Check the log file.\")\n",
        "    except PermissionError:\n",
        "        logging.error(f\"Error: Permission denied for file '{filename}'.\")\n",
        "        print(f\"Error: Permission denied. Check the log file.\")\n",
        "    except Exception as e:\n",
        "        logging.error(f\"Unexpected error while reading file '{filename}': {e}\")\n",
        "        print(f\"An unexpected error occurred. Check the log file.\")\n",
        "\n",
        "\n",
        "#unexist file name\n",
        "read_file(\"test.txt\")\n",
        "\n",
        "\n"
      ],
      "metadata": {
        "colab": {
          "base_uri": "https://localhost:8080/"
        },
        "id": "4qpuw6OSVPn2",
        "outputId": "2ddf4621-acd5-4a28-c736-9fecff1f66ea"
      },
      "execution_count": 40,
      "outputs": [
        {
          "output_type": "stream",
          "name": "stderr",
          "text": [
            "ERROR:root:Error: The file 'test.txt' was not found.\n"
          ]
        },
        {
          "output_type": "stream",
          "name": "stdout",
          "text": [
            "Error: The file 'test.txt' does not exist. Check the log file.\n"
          ]
        }
      ]
    },
    {
      "cell_type": "code",
      "source": [],
      "metadata": {
        "id": "dmJ-G8TQXEHq"
      },
      "execution_count": null,
      "outputs": []
    }
  ]
}